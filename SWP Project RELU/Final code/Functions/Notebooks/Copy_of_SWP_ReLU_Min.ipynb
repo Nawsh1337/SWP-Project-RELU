{
  "nbformat": 4,
  "nbformat_minor": 0,
  "metadata": {
    "colab": {
      "provenance": [],
      "gpuType": "T4"
    },
    "kernelspec": {
      "name": "python3",
      "display_name": "Python 3"
    },
    "language_info": {
      "name": "python"
    },
    "accelerator": "GPU"
  },
  "cells": [
    {
      "cell_type": "code",
      "source": [
        "import torch\n",
        "import torch.nn as nn\n",
        "import torch.optim as optim"
      ],
      "metadata": {
        "id": "K9Y1kA6hbKGq"
      },
      "execution_count": 1,
      "outputs": []
    },
    {
      "cell_type": "code",
      "source": [
        "class ReLU_MaxNN2(nn.Module):\n",
        "    def __init__(self, input_size, hidden_size):\n",
        "        super(ReLU_MaxNN2, self).__init__()\n",
        "        self.hidden = nn.Linear(input_size, hidden_size)\n",
        "        self.output = nn.Linear(hidden_size, 1)\n",
        "        self.relu = nn.ReLU()\n",
        "\n",
        "    def forward(self, x):\n",
        "        hidden_out = self.relu(self.hidden(x))\n",
        "        output = self.relu(self.output(hidden_out))\n",
        "        return output"
      ],
      "metadata": {
        "id": "IYRi69YVlAiZ"
      },
      "execution_count": 2,
      "outputs": []
    },
    {
      "cell_type": "code",
      "source": [
        "from sklearn.model_selection import train_test_split\n",
        "\n",
        "learning_rate = 0.001\n",
        "epochs = 5000\n",
        "num_samples = 100000\n",
        "\n",
        "results = []\n",
        "\n",
        "input_sizes = [3]\n",
        "hidden_sizes = [x+1 for x in range(10)]\n",
        "\n",
        "for input_size in input_sizes:\n",
        "    for hidden_size in hidden_sizes:\n",
        "\n",
        "        X = torch.rand(num_samples, input_size) * 20 - 10  #Random inputs between -10 and 10\n",
        "        Y = torch.max(torch.tensor(0), torch.min(X, dim=1, keepdim=True)[0])  #True min of inputs or 0 (relu)\n",
        "\n",
        "        #Split into training and testing data\n",
        "        X_train, X_test, Y_train, Y_test = train_test_split(\n",
        "            X.numpy(), Y.numpy(), test_size=0.2, random_state=42\n",
        "        )\n",
        "        X_train, X_test = torch.tensor(X_train), torch.tensor(X_test)\n",
        "        Y_train, Y_test = torch.tensor(Y_train), torch.tensor(Y_test)\n",
        "\n",
        "        model = ReLU_MaxNN2(input_size, hidden_size)\n",
        "        criterion = nn.MSELoss()  #Mean Squared Error loss\n",
        "        optimizer = optim.Adam(model.parameters(), lr=learning_rate)\n",
        "\n",
        "        for epoch in range(epochs):\n",
        "            optimizer.zero_grad()\n",
        "            outputs = model(X_train)\n",
        "            loss = criterion(outputs, Y_train)\n",
        "            loss.backward()\n",
        "            optimizer.step()\n",
        "\n",
        "        with torch.no_grad():\n",
        "            test_outputs = model(X_test)\n",
        "            test_loss = criterion(test_outputs, Y_test).item()\n",
        "\n",
        "        results.append({\n",
        "            'input_size': input_size,\n",
        "            'hidden_size': hidden_size,\n",
        "            'training_loss': loss.item(),\n",
        "            'testing_loss': test_loss\n",
        "        })"
      ],
      "metadata": {
        "id": "2ffUovctdeKW"
      },
      "execution_count": 3,
      "outputs": []
    },
    {
      "cell_type": "code",
      "source": [
        "import pandas as pd\n",
        "\n",
        "results_df = pd.DataFrame(results)\n",
        "\n",
        "results_df.to_csv(\"relu_nn_training_results.csv\", index=False)\n",
        "print(\"Results saved to relu_nn_training_results.csv\")\n",
        "\n",
        "print(results_df)"
      ],
      "metadata": {
        "colab": {
          "base_uri": "https://localhost:8080/"
        },
        "id": "yJ9SsEgxdyO_",
        "outputId": "140ba123-48f2-4ce0-dac9-ff01bf38011d"
      },
      "execution_count": 4,
      "outputs": [
        {
          "output_type": "stream",
          "name": "stdout",
          "text": [
            "Results saved to relu_nn_training_results.csv\n",
            "   input_size  hidden_size  training_loss  testing_loss\n",
            "0           3            1       0.311943      0.319584\n",
            "1           3            2       0.156579      0.151925\n",
            "2           3            3       0.023373      0.022081\n",
            "3           3            4       1.298630      1.205813\n",
            "4           3            5       1.226295      1.209110\n",
            "5           3            6       0.020579      0.020863\n",
            "6           3            7       1.244805      1.186882\n",
            "7           3            8       1.277172      1.303927\n",
            "8           3            9       0.008251      0.008392\n",
            "9           3           10       0.006867      0.006393\n"
          ]
        }
      ]
    },
    {
      "cell_type": "code",
      "source": [
        "df = pd.read_csv(\"relu_nn_training_results.csv\")\n",
        "\n",
        "min_loss = df[\"testing_loss\"].min()\n",
        "\n",
        "epsilon = 0.05  #Allowable margin for loss\n",
        "\n",
        "filtered_df = df[df[\"testing_loss\"] <= min_loss + epsilon]\n",
        "\n",
        "best_model = filtered_df.sort_values(by=\"hidden_size\").iloc[0]\n",
        "\n",
        "print(\"Best Model:\")\n",
        "print(best_model)"
      ],
      "metadata": {
        "colab": {
          "base_uri": "https://localhost:8080/"
        },
        "id": "3EIFc5f6mhLH",
        "outputId": "7b8ff692-0bce-434e-fa02-6e3b891ba8c1"
      },
      "execution_count": 5,
      "outputs": [
        {
          "output_type": "stream",
          "name": "stdout",
          "text": [
            "Best Model:\n",
            "input_size       3.000000\n",
            "hidden_size      3.000000\n",
            "training_loss    0.023373\n",
            "testing_loss     0.022081\n",
            "Name: 2, dtype: float64\n"
          ]
        }
      ]
    },
    {
      "cell_type": "code",
      "source": [
        "import matplotlib.pyplot as plt\n",
        "\n",
        "best_model_info = filtered_df.sort_values(by=\"hidden_size\").iloc[0]\n",
        "best_hidden_size = int(best_model_info['hidden_size'])\n",
        "print(f\"Best model has {best_hidden_size} hidden units with testing loss {best_model_info['testing_loss']:.4f}\")\n",
        "\n",
        "torch.manual_seed(42)\n",
        "test_samples = torch.rand(20000, 3) * 20 - 10\n",
        "test_labels = torch.max(torch.tensor(0), torch.min(test_samples, dim=1, keepdim=True)[0])\n",
        "\n",
        "input_size = 3\n",
        "best_model = ReLU_MaxNN2(input_size, best_hidden_size)\n",
        "optimizer = optim.Adam(best_model.parameters(), lr=learning_rate)\n",
        "\n",
        "train_losses = []\n",
        "test_losses = []\n",
        "\n",
        "for epoch in range(epochs):\n",
        "    optimizer.zero_grad()\n",
        "    outputs = best_model(X)\n",
        "    loss = criterion(outputs, Y)\n",
        "    loss.backward()\n",
        "    optimizer.step()\n",
        "    train_losses.append(loss.item())\n",
        "\n",
        "    with torch.no_grad():\n",
        "        test_outputs = best_model(test_samples)\n",
        "        test_loss = criterion(test_outputs, test_labels).item()\n",
        "        test_losses.append(test_loss)\n",
        "\n",
        "    if (epoch + 1) % 100 == 0:\n",
        "        print(f'Epoch [{epoch+1}/{epochs}], Train Loss: {loss.item():.4f}, Test Loss: {test_loss:.4f}')\n",
        "\n",
        "with torch.no_grad():\n",
        "    predictions = best_model(test_samples)\n",
        "\n",
        "print(\"\\nTest Results:\")\n",
        "for i in range(10):\n",
        "    sample = test_samples[i].numpy().round(2)\n",
        "    true_avg = test_labels[i].item()\n",
        "    pred = predictions[i].item()\n",
        "    print(f\"Sample {i+1}: {sample} | True: {true_avg:.2f} | Pred: {pred:.2f}\")\n",
        "\n",
        "mae = torch.mean(torch.abs(predictions - test_labels)).item()\n",
        "print(f\"\\nMean Absolute Error: {mae:.4f}\")\n",
        "\n",
        "plt.figure(figsize=(10, 6))\n",
        "plt.plot(range(epochs), train_losses, label='Training Loss')\n",
        "plt.plot(range(epochs), test_losses, label='Testing Loss')\n",
        "plt.xlabel('Epochs')\n",
        "plt.ylabel('Loss')\n",
        "plt.title('Training and Testing Losses Over Epochs for Min Model')\n",
        "plt.legend()\n",
        "plt.grid(True)\n",
        "plt.show()"
      ],
      "metadata": {
        "colab": {
          "base_uri": "https://localhost:8080/",
          "height": 1000
        },
        "id": "u4ZIsabomuLB",
        "outputId": "d751a1b4-50cb-4942-abbc-ed9b443aba19"
      },
      "execution_count": 8,
      "outputs": [
        {
          "output_type": "stream",
          "name": "stdout",
          "text": [
            "Best model has 3 hidden units with testing loss 0.0221\n",
            "Epoch [100/5000], Train Loss: 0.6293, Test Loss: 0.6262\n",
            "Epoch [200/5000], Train Loss: 0.4713, Test Loss: 0.4664\n",
            "Epoch [300/5000], Train Loss: 0.3174, Test Loss: 0.3110\n",
            "Epoch [400/5000], Train Loss: 0.2113, Test Loss: 0.2050\n",
            "Epoch [500/5000], Train Loss: 0.1445, Test Loss: 0.1387\n",
            "Epoch [600/5000], Train Loss: 0.1033, Test Loss: 0.0982\n",
            "Epoch [700/5000], Train Loss: 0.0779, Test Loss: 0.0736\n",
            "Epoch [800/5000], Train Loss: 0.0619, Test Loss: 0.0584\n",
            "Epoch [900/5000], Train Loss: 0.0514, Test Loss: 0.0488\n",
            "Epoch [1000/5000], Train Loss: 0.0445, Test Loss: 0.0427\n",
            "Epoch [1100/5000], Train Loss: 0.0398, Test Loss: 0.0386\n",
            "Epoch [1200/5000], Train Loss: 0.0365, Test Loss: 0.0358\n",
            "Epoch [1300/5000], Train Loss: 0.0341, Test Loss: 0.0336\n",
            "Epoch [1400/5000], Train Loss: 0.0322, Test Loss: 0.0320\n",
            "Epoch [1500/5000], Train Loss: 0.0306, Test Loss: 0.0306\n",
            "Epoch [1600/5000], Train Loss: 0.0293, Test Loss: 0.0294\n",
            "Epoch [1700/5000], Train Loss: 0.0282, Test Loss: 0.0283\n",
            "Epoch [1800/5000], Train Loss: 0.0273, Test Loss: 0.0274\n",
            "Epoch [1900/5000], Train Loss: 0.0265, Test Loss: 0.0266\n",
            "Epoch [2000/5000], Train Loss: 0.0258, Test Loss: 0.0259\n",
            "Epoch [2100/5000], Train Loss: 0.0252, Test Loss: 0.0254\n",
            "Epoch [2200/5000], Train Loss: 0.0247, Test Loss: 0.0249\n",
            "Epoch [2300/5000], Train Loss: 0.0243, Test Loss: 0.0245\n",
            "Epoch [2400/5000], Train Loss: 0.0240, Test Loss: 0.0242\n",
            "Epoch [2500/5000], Train Loss: 0.0238, Test Loss: 0.0240\n",
            "Epoch [2600/5000], Train Loss: 0.0236, Test Loss: 0.0238\n",
            "Epoch [2700/5000], Train Loss: 0.0235, Test Loss: 0.0237\n",
            "Epoch [2800/5000], Train Loss: 0.0233, Test Loss: 0.0236\n",
            "Epoch [2900/5000], Train Loss: 0.0233, Test Loss: 0.0235\n",
            "Epoch [3000/5000], Train Loss: 0.0232, Test Loss: 0.0234\n",
            "Epoch [3100/5000], Train Loss: 0.0232, Test Loss: 0.0234\n",
            "Epoch [3200/5000], Train Loss: 0.0231, Test Loss: 0.0233\n",
            "Epoch [3300/5000], Train Loss: 0.0231, Test Loss: 0.0233\n",
            "Epoch [3400/5000], Train Loss: 0.0230, Test Loss: 0.0232\n",
            "Epoch [3500/5000], Train Loss: 0.0230, Test Loss: 0.0232\n",
            "Epoch [3600/5000], Train Loss: 0.0229, Test Loss: 0.0231\n",
            "Epoch [3700/5000], Train Loss: 0.0229, Test Loss: 0.0231\n",
            "Epoch [3800/5000], Train Loss: 0.0229, Test Loss: 0.0230\n",
            "Epoch [3900/5000], Train Loss: 0.0228, Test Loss: 0.0230\n",
            "Epoch [4000/5000], Train Loss: 0.0228, Test Loss: 0.0229\n",
            "Epoch [4100/5000], Train Loss: 0.0228, Test Loss: 0.0229\n",
            "Epoch [4200/5000], Train Loss: 0.0228, Test Loss: 0.0229\n",
            "Epoch [4300/5000], Train Loss: 0.0227, Test Loss: 0.0228\n",
            "Epoch [4400/5000], Train Loss: 0.0227, Test Loss: 0.0228\n",
            "Epoch [4500/5000], Train Loss: 0.0227, Test Loss: 0.0228\n",
            "Epoch [4600/5000], Train Loss: 0.0227, Test Loss: 0.0228\n",
            "Epoch [4700/5000], Train Loss: 0.0227, Test Loss: 0.0228\n",
            "Epoch [4800/5000], Train Loss: 0.0227, Test Loss: 0.0227\n",
            "Epoch [4900/5000], Train Loss: 0.0227, Test Loss: 0.0227\n",
            "Epoch [5000/5000], Train Loss: 0.0227, Test Loss: 0.0227\n",
            "\n",
            "Test Results:\n",
            "Sample 1: [ 7.65  8.3  -2.34] | True: 0.00 | Pred: 0.00\n",
            "Sample 2: [ 9.19 -2.19  2.02] | True: 0.00 | Pred: 0.00\n",
            "Sample 3: [-4.87  5.87  8.82] | True: 0.00 | Pred: 0.00\n",
            "Sample 4: [-7.34  8.69  1.87] | True: 0.00 | Pred: 0.00\n",
            "Sample 5: [7.39 1.35 4.82] | True: 1.35 | Pred: 1.18\n",
            "Sample 6: [-1.41  7.71  1.48] | True: 0.00 | Pred: 0.00\n",
            "Sample 7: [-4.67  2.55 -4.61] | True: 0.00 | Pred: 0.00\n",
            "Sample 8: [-1.17 -4.06  6.63] | True: 0.00 | Pred: 0.00\n",
            "Sample 9: [-7.89 -4.61 -2.82] | True: 0.00 | Pred: 0.00\n",
            "Sample 10: [-6.01  0.94 -9.88] | True: 0.00 | Pred: 0.00\n",
            "\n",
            "Mean Absolute Error: 0.0424\n"
          ]
        },
        {
          "output_type": "display_data",
          "data": {
            "text/plain": [
              "<Figure size 1000x600 with 1 Axes>"
            ],
            "image/png": "[encoded data removed]"
          },
          "metadata": {}
        }
      ]
    },
    {
      "cell_type": "code",
      "source": [
        "import numpy as np\n",
        "model_params = np.concatenate([\n",
        "    param.data.numpy().flatten()\n",
        "    for param in best_model.parameters()\n",
        "])\n",
        "np.save('model_weights_biases.npy', model_params)\n",
        "\n",
        "print(\"Model saved with parameter shape:\", model_params.shape)\n",
        "print(\"parameters:\", model_params)"
      ],
      "metadata": {
        "colab": {
          "base_uri": "https://localhost:8080/"
        },
        "id": "hhNeoVvUkhPS",
        "outputId": "5ee2cefb-857c-4b04-8b30-0acb89455844"
      },
      "execution_count": 9,
      "outputs": [
        {
          "output_type": "stream",
          "name": "stdout",
          "text": [
            "Model saved with parameter shape: (16,)\n",
            "parameters: [ 0.31171656 -0.9350445   0.6211162   0.0840196   0.07804125  0.9255625\n",
            " -0.77336603  0.14465733  0.6157616  -1.2888322  -0.52951705 -0.60777557\n",
            " -1.0698253   0.89644986 -1.1819019  -0.06556685]\n"
          ]
        }
      ]
    }
  ]
}