{
  "nbformat": 4,
  "nbformat_minor": 0,
  "metadata": {
    "colab": {
      "provenance": [],
      "gpuType": "T4"
    },
    "kernelspec": {
      "name": "python3",
      "display_name": "Python 3"
    },
    "language_info": {
      "name": "python"
    },
    "accelerator": "GPU"
  },
  "cells": [
    {
      "cell_type": "code",
      "source": [
        "import torch\n",
        "import torch.nn as nn\n",
        "import torch.optim as optim"
      ],
      "metadata": {
        "id": "K9Y1kA6hbKGq"
      },
      "execution_count": 1,
      "outputs": []
    },
    {
      "cell_type": "code",
      "source": [
        "class ReLU_MaxNN2(nn.Module):\n",
        "    def __init__(self, input_size, hidden_size):\n",
        "        super(ReLU_MaxNN2, self).__init__()\n",
        "        self.hidden = nn.Linear(input_size, hidden_size)\n",
        "        self.output = nn.Linear(hidden_size, 1)\n",
        "        self.relu = nn.ReLU()\n",
        "\n",
        "    def forward(self, x):\n",
        "        hidden_out = self.relu(self.hidden(x))\n",
        "        output = self.output(hidden_out)\n",
        "        return output\n"
      ],
      "metadata": {
        "id": "IYRi69YVlAiZ"
      },
      "execution_count": 44,
      "outputs": []
    },
    {
      "cell_type": "code",
      "source": [
        "from sklearn.model_selection import train_test_split\n",
        "\n",
        "learning_rate = 0.001\n",
        "epochs = 5000\n",
        "num_samples = 100000\n",
        "\n",
        "results = []\n",
        "\n",
        "input_sizes = [3]\n",
        "hidden_sizes = [x+1 for x in range(10)]\n",
        "\n",
        "for input_size in input_sizes:\n",
        "    for hidden_size in hidden_sizes:\n",
        "\n",
        "        X = torch.rand(num_samples, input_size) * 10  #Random inputs between 0 and 10\n",
        "        Y = torch.min(X, dim=1, keepdim=True)[0]  #True min of inputs\n",
        "\n",
        "        #Split into training and testing data\n",
        "        X_train, X_test, Y_train, Y_test = train_test_split(\n",
        "            X.numpy(), Y.numpy(), test_size=0.2, random_state=42\n",
        "        )\n",
        "        X_train, X_test = torch.tensor(X_train), torch.tensor(X_test)\n",
        "        Y_train, Y_test = torch.tensor(Y_train), torch.tensor(Y_test)\n",
        "\n",
        "        model = ReLU_MaxNN2(input_size, hidden_size)\n",
        "        criterion = nn.MSELoss()  #Mean Squared Error loss\n",
        "        optimizer = optim.Adam(model.parameters(), lr=learning_rate)\n",
        "\n",
        "        for epoch in range(epochs):\n",
        "            optimizer.zero_grad()\n",
        "            outputs = model(X_train)\n",
        "            loss = criterion(outputs, Y_train)\n",
        "            loss.backward()\n",
        "            optimizer.step()\n",
        "\n",
        "        with torch.no_grad():\n",
        "            test_outputs = model(X_test)\n",
        "            test_loss = criterion(test_outputs, Y_test).item()\n",
        "\n",
        "        results.append({\n",
        "            'input_size': input_size,\n",
        "            'hidden_size': hidden_size,\n",
        "            'training_loss': loss.item(),\n",
        "            'testing_loss': test_loss\n",
        "        })"
      ],
      "metadata": {
        "id": "2ffUovctdeKW"
      },
      "execution_count": 45,
      "outputs": []
    },
    {
      "cell_type": "code",
      "source": [
        "import pandas as pd\n",
        "\n",
        "results_df = pd.DataFrame(results)\n",
        "\n",
        "results_df.to_csv(\"relu_nn_training_results.csv\", index=False)\n",
        "print(\"Results saved to relu_nn_training_results.csv\")\n",
        "\n",
        "print(results_df)"
      ],
      "metadata": {
        "colab": {
          "base_uri": "https://localhost:8080/"
        },
        "id": "yJ9SsEgxdyO_",
        "outputId": "eed9256e-7b06-42b3-d4df-d07b44fbf971"
      },
      "execution_count": 46,
      "outputs": [
        {
          "output_type": "stream",
          "name": "stdout",
          "text": [
            "Results saved to relu_nn_training_results.csv\n",
            "   input_size  hidden_size  training_loss  testing_loss\n",
            "0           3            1       3.600124      3.535747\n",
            "1           3            2       1.957979      1.941607\n",
            "2           3            3       1.441253      1.425043\n",
            "3           3            4       1.248920      1.242158\n",
            "4           3            5       0.080357      0.081034\n",
            "5           3            6       0.134621      0.134966\n",
            "6           3            7       0.063855      0.064568\n",
            "7           3            8       0.178579      0.178278\n",
            "8           3            9       0.079412      0.078988\n",
            "9           3           10       0.047284      0.046813\n"
          ]
        }
      ]
    },
    {
      "cell_type": "code",
      "source": [
        "df = pd.read_csv(\"relu_nn_training_results.csv\")\n",
        "\n",
        "min_loss = df[\"testing_loss\"].min()\n",
        "\n",
        "epsilon = 0.3  #Allowable margin for loss\n",
        "\n",
        "filtered_df = df[df[\"testing_loss\"] <= min_loss + epsilon]\n",
        "\n",
        "best_model = filtered_df.sort_values(by=\"hidden_size\").iloc[0]\n",
        "\n",
        "print(\"Best Model:\")\n",
        "print(best_model)"
      ],
      "metadata": {
        "colab": {
          "base_uri": "https://localhost:8080/"
        },
        "id": "3EIFc5f6mhLH",
        "outputId": "6027c60a-b9f7-4433-8581-543fcdfa13b9"
      },
      "execution_count": 47,
      "outputs": [
        {
          "output_type": "stream",
          "name": "stdout",
          "text": [
            "Best Model:\n",
            "input_size       3.000000\n",
            "hidden_size      5.000000\n",
            "training_loss    0.080357\n",
            "testing_loss     0.081034\n",
            "Name: 4, dtype: float64\n"
          ]
        }
      ]
    },
    {
      "cell_type": "code",
      "source": [
        "import matplotlib.pyplot as plt\n",
        "\n",
        "best_model_info = filtered_df.sort_values(by=\"hidden_size\").iloc[0]\n",
        "best_hidden_size = int(best_model_info['hidden_size'])\n",
        "print(f\"Best model has {best_hidden_size} hidden units with testing loss {best_model_info['testing_loss']:.4f}\")\n",
        "\n",
        "torch.manual_seed(42)\n",
        "test_samples = torch.rand(10, 3) * 10\n",
        "test_labels = torch.min(test_samples, dim=1, keepdim=True)[0]\n",
        "\n",
        "input_size = 3\n",
        "best_model = ReLU_MaxNN2(input_size, best_hidden_size)\n",
        "optimizer = optim.Adam(best_model.parameters(), lr=learning_rate)\n",
        "\n",
        "train_losses = []\n",
        "test_losses = []\n",
        "\n",
        "for epoch in range(epochs):\n",
        "    optimizer.zero_grad()\n",
        "    outputs = best_model(X)\n",
        "    loss = criterion(outputs, Y)\n",
        "    loss.backward()\n",
        "    optimizer.step()\n",
        "    train_losses.append(loss.item())\n",
        "\n",
        "    with torch.no_grad():\n",
        "        test_outputs = best_model(test_samples)\n",
        "        test_loss = criterion(test_outputs, test_labels).item()\n",
        "        test_losses.append(test_loss)\n",
        "\n",
        "    if (epoch + 1) % 100 == 0:\n",
        "        print(f'Epoch [{epoch+1}/{epochs}], Train Loss: {loss.item():.4f}, Test Loss: {test_loss:.4f}')\n",
        "\n",
        "with torch.no_grad():\n",
        "    predictions = best_model(test_samples)\n",
        "\n",
        "print(\"\\nTest Results:\")\n",
        "for i in range(10):\n",
        "    sample = test_samples[i].numpy().round(2)\n",
        "    true_avg = test_labels[i].item()\n",
        "    pred = predictions[i].item()\n",
        "    print(f\"Sample {i+1}: {sample} | True: {true_avg:.2f} | Pred: {pred:.2f}\")\n",
        "\n",
        "mae = torch.mean(torch.abs(predictions - test_labels)).item()\n",
        "print(f\"\\nMean Absolute Error: {mae:.4f}\")\n",
        "\n",
        "plt.figure(figsize=(10, 6))\n",
        "plt.plot(range(epochs), train_losses, label='Training Loss')\n",
        "plt.plot(range(epochs), test_losses, label='Testing Loss')\n",
        "plt.xlabel('Epochs')\n",
        "plt.ylabel('Loss')\n",
        "plt.title('Training and Testing Losses Over Epochs for Min Model')\n",
        "plt.legend()\n",
        "plt.grid(True)\n",
        "plt.show()"
      ],
      "metadata": {
        "colab": {
          "base_uri": "https://localhost:8080/",
          "height": 1000
        },
        "id": "u4ZIsabomuLB",
        "outputId": "d889023e-05c7-46df-b6ba-72045c975bde"
      },
      "execution_count": 48,
      "outputs": [
        {
          "output_type": "stream",
          "name": "stdout",
          "text": [
            "Best model has 5 hidden units with testing loss 0.0810\n",
            "Epoch [100/5000], Train Loss: 4.6993, Test Loss: 4.6152\n",
            "Epoch [200/5000], Train Loss: 2.2235, Test Loss: 2.2258\n",
            "Epoch [300/5000], Train Loss: 1.9453, Test Loss: 1.7827\n",
            "Epoch [400/5000], Train Loss: 1.7739, Test Loss: 1.4762\n",
            "Epoch [500/5000], Train Loss: 1.6583, Test Loss: 1.2656\n",
            "Epoch [600/5000], Train Loss: 1.5685, Test Loss: 1.1150\n",
            "Epoch [700/5000], Train Loss: 1.4889, Test Loss: 1.0022\n",
            "Epoch [800/5000], Train Loss: 1.4139, Test Loss: 0.9195\n",
            "Epoch [900/5000], Train Loss: 1.3424, Test Loss: 0.8528\n",
            "Epoch [1000/5000], Train Loss: 1.2746, Test Loss: 0.7938\n",
            "Epoch [1100/5000], Train Loss: 1.2099, Test Loss: 0.7515\n",
            "Epoch [1200/5000], Train Loss: 1.1476, Test Loss: 0.7139\n",
            "Epoch [1300/5000], Train Loss: 1.0865, Test Loss: 0.6779\n",
            "Epoch [1400/5000], Train Loss: 1.0261, Test Loss: 0.6442\n",
            "Epoch [1500/5000], Train Loss: 0.9656, Test Loss: 0.6131\n",
            "Epoch [1600/5000], Train Loss: 0.9047, Test Loss: 0.5848\n",
            "Epoch [1700/5000], Train Loss: 0.8430, Test Loss: 0.5505\n",
            "Epoch [1800/5000], Train Loss: 0.7800, Test Loss: 0.5099\n",
            "Epoch [1900/5000], Train Loss: 0.7160, Test Loss: 0.4693\n",
            "Epoch [2000/5000], Train Loss: 0.6520, Test Loss: 0.4280\n",
            "Epoch [2100/5000], Train Loss: 0.5893, Test Loss: 0.3927\n",
            "Epoch [2200/5000], Train Loss: 0.5299, Test Loss: 0.3606\n",
            "Epoch [2300/5000], Train Loss: 0.4757, Test Loss: 0.3305\n",
            "Epoch [2400/5000], Train Loss: 0.4282, Test Loss: 0.3027\n",
            "Epoch [2500/5000], Train Loss: 0.3882, Test Loss: 0.2763\n",
            "Epoch [2600/5000], Train Loss: 0.3558, Test Loss: 0.2521\n",
            "Epoch [2700/5000], Train Loss: 0.3301, Test Loss: 0.2308\n",
            "Epoch [2800/5000], Train Loss: 0.3099, Test Loss: 0.2127\n",
            "Epoch [2900/5000], Train Loss: 0.2941, Test Loss: 0.1979\n",
            "Epoch [3000/5000], Train Loss: 0.2817, Test Loss: 0.1863\n",
            "Epoch [3100/5000], Train Loss: 0.2718, Test Loss: 0.1774\n",
            "Epoch [3200/5000], Train Loss: 0.2639, Test Loss: 0.1708\n",
            "Epoch [3300/5000], Train Loss: 0.2575, Test Loss: 0.1662\n",
            "Epoch [3400/5000], Train Loss: 0.2524, Test Loss: 0.1618\n",
            "Epoch [3500/5000], Train Loss: 0.2481, Test Loss: 0.1556\n",
            "Epoch [3600/5000], Train Loss: 0.2446, Test Loss: 0.1504\n",
            "Epoch [3700/5000], Train Loss: 0.2416, Test Loss: 0.1457\n",
            "Epoch [3800/5000], Train Loss: 0.2389, Test Loss: 0.1416\n",
            "Epoch [3900/5000], Train Loss: 0.2365, Test Loss: 0.1380\n",
            "Epoch [4000/5000], Train Loss: 0.2342, Test Loss: 0.1349\n",
            "Epoch [4100/5000], Train Loss: 0.2319, Test Loss: 0.1322\n",
            "Epoch [4200/5000], Train Loss: 0.2295, Test Loss: 0.1298\n",
            "Epoch [4300/5000], Train Loss: 0.2270, Test Loss: 0.1280\n",
            "Epoch [4400/5000], Train Loss: 0.2244, Test Loss: 0.1265\n",
            "Epoch [4500/5000], Train Loss: 0.2216, Test Loss: 0.1257\n",
            "Epoch [4600/5000], Train Loss: 0.2187, Test Loss: 0.1256\n",
            "Epoch [4700/5000], Train Loss: 0.2158, Test Loss: 0.1260\n",
            "Epoch [4800/5000], Train Loss: 0.2126, Test Loss: 0.1270\n",
            "Epoch [4900/5000], Train Loss: 0.2092, Test Loss: 0.1285\n",
            "Epoch [5000/5000], Train Loss: 0.2054, Test Loss: 0.1317\n",
            "\n",
            "Test Results:\n",
            "Sample 1: [8.82 9.15 3.83] | True: 3.83 | Pred: 4.40\n",
            "Sample 2: [9.59 3.9  6.01] | True: 3.90 | Pred: 4.27\n",
            "Sample 3: [2.57 7.94 9.41] | True: 2.57 | Pred: 3.00\n",
            "Sample 4: [1.33 9.35 5.94] | True: 1.33 | Pred: 1.73\n",
            "Sample 5: [8.69 5.68 7.41] | True: 5.68 | Pred: 5.98\n",
            "Sample 6: [4.29 8.85 5.74] | True: 4.29 | Pred: 4.02\n",
            "Sample 7: [2.67 6.27 2.7 ] | True: 2.67 | Pred: 2.26\n",
            "Sample 8: [4.41 2.97 8.32] | True: 2.97 | Pred: 2.62\n",
            "Sample 9: [1.05 2.69 3.59] | True: 1.05 | Pred: 0.98\n",
            "Sample 10: [1.99 5.47 0.06] | True: 0.06 | Pred: -0.16\n",
            "\n",
            "Mean Absolute Error: 0.3397\n"
          ]
        },
        {
          "output_type": "display_data",
          "data": {
            "text/plain": [
              "<Figure size 1000x600 with 1 Axes>"
            ],
            "image/png": "[encoded data removed]"
          },
          "metadata": {}
        }
      ]
    },
    {
      "cell_type": "code",
      "source": [
        "torch.save(best_model.state_dict(), 'best_relu_min_model.pth')\n",
        "\n",
        "import numpy as np\n",
        "model_params = np.concatenate([\n",
        "    param.data.numpy().flatten()\n",
        "    for param in best_model.parameters()\n",
        "])\n",
        "np.save('model_weights_biases.npy', model_params)\n",
        "\n",
        "print(\"Model saved with parameter shape:\", model_params.shape)\n",
        "print(\"parameters:\", model_params)"
      ],
      "metadata": {
        "colab": {
          "base_uri": "https://localhost:8080/"
        },
        "id": "hhNeoVvUkhPS",
        "outputId": "48345fc6-948a-4e28-abc6-981e78db1e59"
      },
      "execution_count": 49,
      "outputs": [
        {
          "output_type": "stream",
          "name": "stdout",
          "text": [
            "Model saved with parameter shape: (26,)\n",
            "parameters: [ 0.7239376  -0.6884643   0.06876718 -0.6165917  -0.28134888  0.9594718\n",
            " -0.21034776  0.6974514  -0.33954236  0.01664413  0.09758783  0.47359183\n",
            "  0.38211665  0.46018872  0.7969045  -0.65763175  0.7556251   0.42669377\n",
            "  0.5174913  -0.34140563 -0.6875991  -0.8393563  -0.6200615   0.9276605\n",
            "  0.32425332  0.19758563]\n"
          ]
        }
      ]
    }
  ]
}