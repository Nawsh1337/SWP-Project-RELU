{
  "nbformat": 4,
  "nbformat_minor": 0,
  "metadata": {
    "colab": {
      "provenance": [],
      "gpuType": "T4"
    },
    "kernelspec": {
      "name": "python3",
      "display_name": "Python 3"
    },
    "language_info": {
      "name": "python"
    },
    "accelerator": "GPU"
  },
  "cells": [
    {
      "cell_type": "code",
      "source": [
        "import torch\n",
        "import torch.nn as nn\n",
        "import torch.optim as optim"
      ],
      "metadata": {
        "id": "K9Y1kA6hbKGq"
      },
      "execution_count": 1,
      "outputs": []
    },
    {
      "cell_type": "code",
      "source": [
        "class ReLU_MinNN2(nn.Module):\n",
        "    def __init__(self, input_size, hidden_size):\n",
        "        super(ReLU_MinNN2, self).__init__()\n",
        "        self.hidden = nn.Linear(input_size, hidden_size)\n",
        "        self.output = nn.Linear(hidden_size, 1)\n",
        "        self.relu = nn.ReLU()\n",
        "\n",
        "    def forward(self, x):\n",
        "        hidden_out = self.relu(self.hidden(x))\n",
        "        output = self.output(hidden_out)\n",
        "\n",
        "        return self.relu(output)"
      ],
      "metadata": {
        "id": "IYRi69YVlAiZ"
      },
      "execution_count": 17,
      "outputs": []
    },
    {
      "cell_type": "code",
      "source": [
        "from sklearn.model_selection import train_test_split\n",
        "\n",
        "learning_rate = 0.001\n",
        "epochs = 5000\n",
        "num_samples = 100000\n",
        "\n",
        "results = []\n",
        "\n",
        "input_sizes = [3]\n",
        "hidden_sizes = [x+1 for x in range(10)]\n",
        "\n",
        "for input_size in input_sizes:\n",
        "    for hidden_size in hidden_sizes:\n",
        "\n",
        "        X = torch.rand(num_samples, input_size) * 10   #Random inputs between 0 and 10\n",
        "        Y = torch.min(X, dim=1, keepdim=True)[0]  #True min\n",
        "\n",
        "        #DATA IS TRUE VALUE\n",
        "        #Split into training and testing data\n",
        "        X_train, X_test, Y_train, Y_test = train_test_split(\n",
        "            X.numpy(), Y.numpy(), test_size=0.2, random_state=42\n",
        "        )\n",
        "        X_train, X_test = torch.tensor(X_train), torch.tensor(X_test)\n",
        "        Y_train, Y_test = torch.tensor(Y_train), torch.tensor(Y_test)\n",
        "\n",
        "        model = ReLU_MinNN2(input_size, hidden_size)\n",
        "        criterion = nn.MSELoss()  #Mean Squared Error loss\n",
        "        optimizer = optim.Adam(model.parameters(), lr=learning_rate)\n",
        "\n",
        "        for epoch in range(epochs):\n",
        "            optimizer.zero_grad()\n",
        "            outputs = model(X_train)\n",
        "            loss = criterion(outputs, Y_train)\n",
        "            loss.backward()\n",
        "            optimizer.step()\n",
        "\n",
        "        with torch.no_grad():\n",
        "            test_outputs = model(X_test)\n",
        "            test_loss = criterion(test_outputs, Y_test).item()\n",
        "\n",
        "        results.append({\n",
        "            'input_size': input_size,\n",
        "            'hidden_size': hidden_size,\n",
        "            'training_loss': loss.item(),\n",
        "            'testing_loss': test_loss\n",
        "        })"
      ],
      "metadata": {
        "id": "2ffUovctdeKW"
      },
      "execution_count": 18,
      "outputs": []
    },
    {
      "cell_type": "code",
      "source": [
        "#Count rows where all values are positive\n",
        "positive_samples = (X > 0).all(dim=1).sum().item()\n",
        "\n",
        "print(f\"Number of samples with all positive values: {positive_samples}\")"
      ],
      "metadata": {
        "colab": {
          "base_uri": "https://localhost:8080/"
        },
        "id": "QBgVsOhj5uCT",
        "outputId": "da20d2ee-88a8-4761-aa1d-d93c1c36b009"
      },
      "execution_count": 19,
      "outputs": [
        {
          "output_type": "stream",
          "name": "stdout",
          "text": [
            "Number of samples with all positive values: 100000\n"
          ]
        }
      ]
    },
    {
      "cell_type": "code",
      "source": [
        "import pandas as pd\n",
        "\n",
        "results_df = pd.DataFrame(results)\n",
        "\n",
        "results_df.to_csv(\"model_training_prediction_min.csv\", index=False)\n",
        "print(\"Results saved to model_training_prediction_min.csv\")\n",
        "\n",
        "print(results_df)"
      ],
      "metadata": {
        "colab": {
          "base_uri": "https://localhost:8080/"
        },
        "id": "yJ9SsEgxdyO_",
        "outputId": "ccc571ba-2d2b-4364-9487-16b210a3f54c"
      },
      "execution_count": 20,
      "outputs": [
        {
          "output_type": "stream",
          "name": "stdout",
          "text": [
            "Results saved to model_training_prediction_min.csv\n",
            "   input_size  hidden_size  training_loss  testing_loss\n",
            "0           3            1       1.437596      1.442995\n",
            "1           3            2       9.968130     10.079129\n",
            "2           3            3       9.964054     10.047361\n",
            "3           3            4       0.172760      0.173197\n",
            "4           3            5       0.155287      0.157010\n",
            "5           3            6       0.054425      0.054768\n",
            "6           3            7       0.170765      0.172083\n",
            "7           3            8       0.055391      0.055028\n",
            "8           3            9       0.050663      0.048241\n",
            "9           3           10       0.056223      0.056810\n"
          ]
        }
      ]
    },
    {
      "cell_type": "code",
      "source": [
        "df = pd.read_csv(\"model_training_prediction_min.csv\")\n",
        "\n",
        "min_loss = df[\"testing_loss\"].min()\n",
        "\n",
        "epsilon = 0.05  #Allowable margin for loss\n",
        "\n",
        "filtered_df = df[df[\"testing_loss\"] <= min_loss + epsilon]\n",
        "\n",
        "best_model = filtered_df.sort_values(by=\"hidden_size\").iloc[0]\n",
        "\n",
        "print(\"Best Model:\")\n",
        "print(best_model)"
      ],
      "metadata": {
        "colab": {
          "base_uri": "https://localhost:8080/"
        },
        "id": "3EIFc5f6mhLH",
        "outputId": "a32ba575-1f77-4514-c454-65791e3f3323"
      },
      "execution_count": 21,
      "outputs": [
        {
          "output_type": "stream",
          "name": "stdout",
          "text": [
            "Best Model:\n",
            "input_size       3.000000\n",
            "hidden_size      6.000000\n",
            "training_loss    0.054425\n",
            "testing_loss     0.054768\n",
            "Name: 5, dtype: float64\n"
          ]
        }
      ]
    },
    {
      "cell_type": "code",
      "source": [
        "import matplotlib.pyplot as plt\n",
        "\n",
        "best_model_info = filtered_df.sort_values(by=\"hidden_size\").iloc[0]\n",
        "best_hidden_size = int(best_model_info['hidden_size'])\n",
        "print(f\"Best model has {best_hidden_size} hidden units with testing loss {best_model_info['testing_loss']:.4f}\")\n",
        "\n",
        "torch.manual_seed(42)\n",
        "test_samples = torch.rand(20000, 3) * 10\n",
        "test_labels = torch.min(test_samples, dim=1, keepdim=True)[0]\n",
        "\n",
        "input_size = 3\n",
        "best_model = ReLU_MinNN2(input_size, best_hidden_size)\n",
        "optimizer = optim.Adam(best_model.parameters(), lr=learning_rate)\n",
        "\n",
        "train_losses = []\n",
        "test_losses = []\n",
        "\n",
        "for epoch in range(epochs):\n",
        "    optimizer.zero_grad()\n",
        "    outputs = best_model(X)\n",
        "    loss = criterion(outputs, Y)\n",
        "    loss.backward()\n",
        "    optimizer.step()\n",
        "    train_losses.append(loss.item())\n",
        "\n",
        "    with torch.no_grad():\n",
        "        test_outputs = best_model(test_samples)\n",
        "        test_loss = criterion(test_outputs, test_labels).item()\n",
        "        test_losses.append(test_loss)\n",
        "\n",
        "    if (epoch + 1) % 100 == 0:\n",
        "        print(f'Epoch [{epoch+1}/{epochs}], Train Loss: {loss.item():.4f}, Test Loss: {test_loss:.4f}')\n",
        "\n",
        "with torch.no_grad():\n",
        "    predictions = best_model(test_samples)\n",
        "\n",
        "print(\"\\nTest Results:\")\n",
        "for i in range(100):\n",
        "    sample = test_samples[i].numpy().round(2)\n",
        "    true_avg = test_labels[i].item()\n",
        "    pred = predictions[i].item()\n",
        "    print(f\"Sample {i+1}: {sample} | True: {true_avg:.2f} | Pred: {pred:.2f}\")\n",
        "\n",
        "mae = torch.mean(torch.abs(predictions - test_labels)).item()\n",
        "print(f\"\\nMean Absolute Error: {mae:.4f}\")\n",
        "\n",
        "plt.figure(figsize=(10, 6))\n",
        "plt.plot(range(epochs), train_losses, label='Training Loss')\n",
        "plt.plot(range(epochs), test_losses, label='Testing Loss')\n",
        "plt.xlabel('Epochs')\n",
        "plt.ylabel('Loss')\n",
        "plt.title('Training and Testing Losses Over Epochs for Min Model')\n",
        "plt.legend()\n",
        "plt.grid(True)\n",
        "plt.show()"
      ],
      "metadata": {
        "colab": {
          "base_uri": "https://localhost:8080/",
          "height": 1000
        },
        "id": "u4ZIsabomuLB",
        "outputId": "e6cda815-dccf-46e3-b754-a7f1102ea9da"
      },
      "execution_count": 22,
      "outputs": [
        {
          "output_type": "stream",
          "name": "stdout",
          "text": [
            "Best model has 6 hidden units with testing loss 0.0548\n",
            "Epoch [100/5000], Train Loss: 2.6182, Test Loss: 2.6042\n",
            "Epoch [200/5000], Train Loss: 1.7575, Test Loss: 1.7459\n",
            "Epoch [300/5000], Train Loss: 1.4241, Test Loss: 1.4121\n",
            "Epoch [400/5000], Train Loss: 1.2283, Test Loss: 1.2170\n",
            "Epoch [500/5000], Train Loss: 1.1075, Test Loss: 1.0976\n",
            "Epoch [600/5000], Train Loss: 1.0297, Test Loss: 1.0214\n",
            "Epoch [700/5000], Train Loss: 0.9812, Test Loss: 0.9745\n",
            "Epoch [800/5000], Train Loss: 0.9525, Test Loss: 0.9472\n",
            "Epoch [900/5000], Train Loss: 0.9356, Test Loss: 0.9315\n",
            "Epoch [1000/5000], Train Loss: 0.9249, Test Loss: 0.9218\n",
            "Epoch [1100/5000], Train Loss: 0.9169, Test Loss: 0.9146\n",
            "Epoch [1200/5000], Train Loss: 0.9099, Test Loss: 0.9081\n",
            "Epoch [1300/5000], Train Loss: 0.9032, Test Loss: 0.9017\n",
            "Epoch [1400/5000], Train Loss: 0.8967, Test Loss: 0.8953\n",
            "Epoch [1500/5000], Train Loss: 0.8901, Test Loss: 0.8889\n",
            "Epoch [1600/5000], Train Loss: 0.8835, Test Loss: 0.8824\n",
            "Epoch [1700/5000], Train Loss: 0.8766, Test Loss: 0.8757\n",
            "Epoch [1800/5000], Train Loss: 0.8691, Test Loss: 0.8682\n",
            "Epoch [1900/5000], Train Loss: 0.8589, Test Loss: 0.8580\n",
            "Epoch [2000/5000], Train Loss: 0.8378, Test Loss: 0.8368\n",
            "Epoch [2100/5000], Train Loss: 0.7739, Test Loss: 0.7719\n",
            "Epoch [2200/5000], Train Loss: 0.6393, Test Loss: 0.6366\n",
            "Epoch [2300/5000], Train Loss: 0.4976, Test Loss: 0.4946\n",
            "Epoch [2400/5000], Train Loss: 0.3961, Test Loss: 0.3937\n",
            "Epoch [2500/5000], Train Loss: 0.3289, Test Loss: 0.3270\n",
            "Epoch [2600/5000], Train Loss: 0.2812, Test Loss: 0.2798\n",
            "Epoch [2700/5000], Train Loss: 0.2467, Test Loss: 0.2455\n",
            "Epoch [2800/5000], Train Loss: 0.2225, Test Loss: 0.2212\n",
            "Epoch [2900/5000], Train Loss: 0.2060, Test Loss: 0.2050\n",
            "Epoch [3000/5000], Train Loss: 0.1953, Test Loss: 0.1945\n",
            "Epoch [3100/5000], Train Loss: 0.1885, Test Loss: 0.1877\n",
            "Epoch [3200/5000], Train Loss: 0.1843, Test Loss: 0.1833\n",
            "Epoch [3300/5000], Train Loss: 0.1815, Test Loss: 0.1806\n",
            "Epoch [3400/5000], Train Loss: 0.1797, Test Loss: 0.1787\n",
            "Epoch [3500/5000], Train Loss: 0.1784, Test Loss: 0.1774\n",
            "Epoch [3600/5000], Train Loss: 0.1774, Test Loss: 0.1764\n",
            "Epoch [3700/5000], Train Loss: 0.1766, Test Loss: 0.1756\n",
            "Epoch [3800/5000], Train Loss: 0.1760, Test Loss: 0.1750\n",
            "Epoch [3900/5000], Train Loss: 0.1755, Test Loss: 0.1745\n",
            "Epoch [4000/5000], Train Loss: 0.1750, Test Loss: 0.1741\n",
            "Epoch [4100/5000], Train Loss: 0.1746, Test Loss: 0.1737\n",
            "Epoch [4200/5000], Train Loss: 0.1743, Test Loss: 0.1734\n",
            "Epoch [4300/5000], Train Loss: 0.1740, Test Loss: 0.1732\n",
            "Epoch [4400/5000], Train Loss: 0.1738, Test Loss: 0.1729\n",
            "Epoch [4500/5000], Train Loss: 0.1736, Test Loss: 0.1727\n",
            "Epoch [4600/5000], Train Loss: 0.1734, Test Loss: 0.1726\n",
            "Epoch [4700/5000], Train Loss: 0.1733, Test Loss: 0.1724\n",
            "Epoch [4800/5000], Train Loss: 0.1731, Test Loss: 0.1723\n",
            "Epoch [4900/5000], Train Loss: 0.1730, Test Loss: 0.1721\n",
            "Epoch [5000/5000], Train Loss: 0.1729, Test Loss: 0.1720\n",
            "\n",
            "Test Results:\n",
            "Sample 1: [8.82 9.15 3.83] | True: 3.83 | Pred: 3.94\n",
            "Sample 2: [9.59 3.9  6.01] | True: 3.90 | Pred: 3.78\n",
            "Sample 3: [2.57 7.94 9.41] | True: 2.57 | Pred: 2.96\n",
            "Sample 4: [1.33 9.35 5.94] | True: 1.33 | Pred: 1.77\n",
            "Sample 5: [8.69 5.68 7.41] | True: 5.68 | Pred: 6.12\n",
            "Sample 6: [4.29 8.85 5.74] | True: 4.29 | Pred: 4.09\n",
            "Sample 7: [2.67 6.27 2.7 ] | True: 2.67 | Pred: 2.25\n",
            "Sample 8: [4.41 2.97 8.32] | True: 2.97 | Pred: 2.67\n",
            "Sample 9: [1.05 2.69 3.59] | True: 1.05 | Pred: 0.70\n",
            "Sample 10: [1.99 5.47 0.06] | True: 0.06 | Pred: 0.00\n",
            "Sample 11: [9.52 0.75 8.86] | True: 0.75 | Pred: 0.92\n",
            "Sample 12: [5.83 3.38 8.09] | True: 3.38 | Pred: 3.30\n",
            "Sample 13: [5.78 9.04 5.55] | True: 5.55 | Pred: 5.28\n",
            "Sample 14: [3.42 6.34 3.64] | True: 3.42 | Pred: 2.95\n",
            "Sample 15: [7.1  9.46 7.89] | True: 7.10 | Pred: 6.61\n",
            "Sample 16: [2.81 7.89 5.89] | True: 2.81 | Pred: 2.82\n",
            "Sample 17: [7.54 1.95 0.05] | True: 0.05 | Pred: 0.00\n",
            "Sample 18: [3.07 1.16 9.1 ] | True: 1.16 | Pred: 0.52\n",
            "Sample 19: [6.44 7.07 6.58] | True: 6.44 | Pred: 5.73\n",
            "Sample 20: [4.91 8.91 1.45] | True: 1.45 | Pred: 1.12\n",
            "Sample 21: [5.31 1.59 6.54] | True: 1.59 | Pred: 1.69\n",
            "Sample 22: [3.28 6.53 3.96] | True: 3.28 | Pred: 2.88\n",
            "Sample 23: [9.15 2.04 2.02] | True: 2.02 | Pred: 0.00\n",
            "Sample 24: [2.02 9.5  6.67] | True: 2.02 | Pred: 2.40\n",
            "Sample 25: [9.81 0.87 0.04] | True: 0.04 | Pred: 0.00\n",
            "Sample 26: [1.09 1.64 7.03] | True: 1.09 | Pred: 0.96\n",
            "Sample 27: [6.79 9.15 2.42] | True: 2.42 | Pred: 2.28\n",
            "Sample 28: [1.59 7.65 2.98] | True: 1.59 | Pred: 1.54\n",
            "Sample 29: [8.03 3.81 7.86] | True: 3.81 | Pred: 4.06\n",
            "Sample 30: [1.12 2.48 6.52] | True: 1.12 | Pred: 1.01\n",
            "Sample 31: [6.06 3.73 7.98] | True: 3.73 | Pred: 3.71\n",
            "Sample 32: [8.4  1.37 2.33] | True: 1.37 | Pred: 0.00\n",
            "Sample 33: [9.58 3.31 3.23] | True: 3.23 | Pred: 1.27\n",
            "Sample 34: [0.16 2.14 6.25] | True: 0.16 | Pred: 0.31\n",
            "Sample 35: [4.34 1.37 5.12] | True: 1.37 | Pred: 1.61\n",
            "Sample 36: [1.58 0.76 2.25] | True: 0.76 | Pred: 0.82\n",
            "Sample 37: [ 0.62  1.82 10.  ] | True: 0.62 | Pred: 0.87\n",
            "Sample 38: [5.94 6.54 0.34] | True: 0.34 | Pred: 0.46\n",
            "Sample 39: [1.72 3.34 5.78] | True: 1.72 | Pred: 1.50\n",
            "Sample 40: [0.6  2.85 2.01] | True: 0.60 | Pred: 0.29\n",
            "Sample 41: [5.01 3.14 4.65] | True: 3.14 | Pred: 3.59\n",
            "Sample 42: [1.61 1.57 2.08] | True: 1.57 | Pred: 0.90\n",
            "Sample 43: [3.29 1.05 9.19] | True: 1.05 | Pred: 0.42\n",
            "Sample 44: [4.01 9.3  6.56] | True: 4.01 | Pred: 3.98\n",
            "Sample 45: [0.77 8.46 3.62] | True: 0.77 | Pred: 1.01\n",
            "Sample 46: [3.08 0.85 0.03] | True: 0.03 | Pred: 0.68\n",
            "Sample 47: [6.43 3.91 6.95] | True: 3.91 | Pred: 4.13\n",
            "Sample 48: [0.9  8.71 1.33] | True: 0.90 | Pred: 0.60\n",
            "Sample 49: [4.14 6.04 7.58] | True: 4.14 | Pred: 3.87\n",
            "Sample 50: [9.04 9.55 1.04] | True: 1.04 | Pred: 1.07\n",
            "Sample 51: [6.26 2.85 4.45] | True: 2.85 | Pred: 3.48\n",
            "Sample 52: [1.26 9.55 1.33] | True: 1.26 | Pred: 0.49\n",
            "Sample 53: [7.67 6.76 6.62] | True: 6.62 | Pred: 6.69\n",
            "Sample 54: [2.3  9.54 6.1 ] | True: 2.30 | Pred: 2.58\n",
            "Sample 55: [5.64 0.59 7.1 ] | True: 0.59 | Pred: 0.61\n",
            "Sample 56: [4.25 2.71 9.29] | True: 2.71 | Pred: 2.21\n",
            "Sample 57: [6.11 2.23 2.47] | True: 2.23 | Pred: 1.85\n",
            "Sample 58: [4.76 7.79 3.72] | True: 3.72 | Pred: 3.57\n",
            "Sample 59: [2.15 3.29 1.26] | True: 1.26 | Pred: 1.42\n",
            "Sample 60: [6.78 8.87 0.29] | True: 0.29 | Pred: 0.16\n",
            "Sample 61: [6.16 7.58 5.91] | True: 5.91 | Pred: 5.49\n",
            "Sample 62: [3.22 7.61 7.63] | True: 3.22 | Pred: 3.28\n",
            "Sample 63: [6.87 4.12 3.68] | True: 3.68 | Pred: 3.78\n",
            "Sample 64: [5.53 4.12 3.51] | True: 3.51 | Pred: 4.00\n",
            "Sample 65: [8.2  9.3  4.51] | True: 4.51 | Pred: 4.53\n",
            "Sample 66: [3.88 5.07 4.7 ] | True: 3.88 | Pred: 3.30\n",
            "Sample 67: [6.2  6.4  0.46] | True: 0.46 | Pred: 0.64\n",
            "Sample 68: [3.15 9.21 6.95] | True: 3.15 | Pred: 3.32\n",
            "Sample 69: [4.75 1.99 1.94] | True: 1.94 | Pred: 2.05\n",
            "Sample 70: [0.52 3.37 6.69] | True: 0.52 | Pred: 0.63\n",
            "Sample 71: [8.19 7.31 0.58] | True: 0.58 | Pred: 0.85\n",
            "Sample 72: [1.99 4.21 9.84] | True: 1.99 | Pred: 2.19\n",
            "Sample 73: [5.72 3.71 7.07] | True: 3.71 | Pred: 3.81\n",
            "Sample 74: [3.1  1.76 8.65] | True: 1.76 | Pred: 1.22\n",
            "Sample 75: [2.73 4.   0.03] | True: 0.03 | Pred: 0.17\n",
            "Sample 76: [8.35 8.79 6.82] | True: 6.82 | Pred: 6.97\n",
            "Sample 77: [1.51 0.07 0.94] | True: 0.07 | Pred: 0.58\n",
            "Sample 78: [8.73 7.4  9.21] | True: 7.40 | Pred: 7.56\n",
            "Sample 79: [7.62 6.27 4.95] | True: 4.95 | Pred: 5.37\n",
            "Sample 80: [1.2  0.72 0.32] | True: 0.32 | Pred: 0.37\n",
            "Sample 81: [7.05 2.55 3.99] | True: 2.55 | Pred: 2.69\n",
            "Sample 82: [2.12 4.09 1.48] | True: 1.48 | Pred: 1.49\n",
            "Sample 83: [1.73 6.66 3.51] | True: 1.73 | Pred: 1.61\n",
            "Sample 84: [8.09 3.4  1.33] | True: 1.33 | Pred: 0.79\n",
            "Sample 85: [4.12 2.58 3.47] | True: 2.58 | Pred: 3.12\n",
            "Sample 86: [0.24 7.8  1.52] | True: 0.24 | Pred: 0.62\n",
            "Sample 87: [7.51 7.27 8.57] | True: 7.27 | Pred: 6.80\n",
            "Sample 88: [1.16 8.6  2.64] | True: 1.16 | Pred: 1.25\n",
            "Sample 89: [6.86 9.7  4.29] | True: 4.29 | Pred: 4.10\n",
            "Sample 90: [4.96 3.85 0.83] | True: 0.83 | Pred: 1.25\n",
            "Sample 91: [7.4  0.04 8.1 ] | True: 0.04 | Pred: 0.07\n",
            "Sample 92: [8.74 9.73 3.82] | True: 3.82 | Pred: 3.83\n",
            "Sample 93: [0.89 6.12 7.76] | True: 0.89 | Pred: 1.28\n",
            "Sample 94: [0.02 3.87 2.  ] | True: 0.02 | Pred: 0.18\n",
            "Sample 95: [4.56 2.54 2.96] | True: 2.54 | Pred: 3.23\n",
            "Sample 96: [3.41 0.25 9.1 ] | True: 0.25 | Pred: 0.00\n",
            "Sample 97: [9.19 4.22 4.43] | True: 4.22 | Pred: 3.09\n",
            "Sample 98: [2.96 0.48 0.13] | True: 0.13 | Pred: 0.57\n",
            "Sample 99: [6.86 2.25 1.79] | True: 1.79 | Pred: 0.94\n",
            "Sample 100: [4.61 3.33 3.38] | True: 3.33 | Pred: 3.60\n",
            "\n",
            "Mean Absolute Error: 0.3249\n"
          ]
        },
        {
          "output_type": "display_data",
          "data": {
            "text/plain": [
              "<Figure size 1000x600 with 1 Axes>"
            ],
            "image/png": "[encoded data removed]"
          },
          "metadata": {}
        }
      ]
    },
    {
      "cell_type": "code",
      "source": [
        "import numpy as np\n",
        "model_params = np.concatenate([\n",
        "    param.data.numpy().flatten()\n",
        "    for param in best_model.parameters()\n",
        "])\n",
        "np.save('training_weights_min.npy', model_params)\n",
        "\n",
        "print(\"Model saved with parameter shape:\", model_params.shape)\n",
        "print(\"parameters:\", model_params)"
      ],
      "metadata": {
        "colab": {
          "base_uri": "https://localhost:8080/"
        },
        "id": "hhNeoVvUkhPS",
        "outputId": "8cbaada1-a89d-4279-b49d-33b7981bd8d0"
      },
      "execution_count": 23,
      "outputs": [
        {
          "output_type": "stream",
          "name": "stdout",
          "text": [
            "Model saved with parameter shape: (31,)\n",
            "parameters: [ 0.5666283  -0.7691121   0.22853781  0.39633194  0.35214528 -0.02913135\n",
            " -0.5098189  -0.5215358  -0.01011219  0.6700034   0.00602268  0.19428924\n",
            "  0.5812937   0.20442621 -0.7721298   0.95739764  0.24467741 -0.10102478\n",
            " -1.1210618  -0.0626561  -0.02092337 -0.94276434 -0.9836822  -0.40378338\n",
            " -1.2086588  -0.00314491 -0.39416996  0.67730534 -1.1909616   0.36817336\n",
            "  0.05048401]\n"
          ]
        }
      ]
    }
  ]
}