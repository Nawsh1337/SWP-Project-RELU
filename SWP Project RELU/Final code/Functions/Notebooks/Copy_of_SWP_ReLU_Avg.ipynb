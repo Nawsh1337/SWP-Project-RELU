{
  "nbformat": 4,
  "nbformat_minor": 0,
  "metadata": {
    "colab": {
      "provenance": [],
      "gpuType": "T4"
    },
    "kernelspec": {
      "name": "python3",
      "display_name": "Python 3"
    },
    "language_info": {
      "name": "python"
    },
    "accelerator": "GPU"
  },
  "cells": [
    {
      "cell_type": "code",
      "source": [
        "import torch\n",
        "import torch.nn as nn\n",
        "import torch.optim as optim"
      ],
      "metadata": {
        "id": "K9Y1kA6hbKGq"
      },
      "execution_count": 1,
      "outputs": []
    },
    {
      "cell_type": "code",
      "source": [
        "class ReLU_MaxNN2(nn.Module):\n",
        "    def __init__(self, input_size, hidden_size):\n",
        "        super(ReLU_MaxNN2, self).__init__()\n",
        "        self.hidden = nn.Linear(input_size, hidden_size)\n",
        "        self.output = nn.Linear(hidden_size, 1)\n",
        "        self.relu = nn.ReLU()\n",
        "\n",
        "    def forward(self, x):\n",
        "        hidden_out = self.relu(self.hidden(x))\n",
        "        output = self.relu(self.output(hidden_out))\n",
        "        return output"
      ],
      "metadata": {
        "id": "IYRi69YVlAiZ"
      },
      "execution_count": 9,
      "outputs": []
    },
    {
      "cell_type": "code",
      "source": [
        "from sklearn.model_selection import train_test_split\n",
        "\n",
        "learning_rate = 0.001\n",
        "epochs = 5000\n",
        "num_samples = 100000\n",
        "\n",
        "results = []\n",
        "\n",
        "input_sizes = [3]\n",
        "hidden_sizes = [x+1 for x in range(10)]\n",
        "\n",
        "for input_size in input_sizes:\n",
        "    for hidden_size in hidden_sizes:\n",
        "\n",
        "        X = torch.rand(num_samples, input_size) * 20 - 10  #Random inputs between -10 and 10\n",
        "        Y = torch.max(torch.tensor(0), torch.mean(X, dim=1, keepdim=True))  #True min of inputs or 0 (relu)\n",
        "\n",
        "        #Split into training and testing data\n",
        "        X_train, X_test, Y_train, Y_test = train_test_split(\n",
        "            X.numpy(), Y.numpy(), test_size=0.2, random_state=42\n",
        "        )\n",
        "        X_train, X_test = torch.tensor(X_train), torch.tensor(X_test)\n",
        "        Y_train, Y_test = torch.tensor(Y_train), torch.tensor(Y_test)\n",
        "\n",
        "        model = ReLU_MaxNN2(input_size, hidden_size)\n",
        "        criterion = nn.MSELoss()  #Mean Squared Error loss\n",
        "        optimizer = optim.Adam(model.parameters(), lr=learning_rate)\n",
        "\n",
        "        for epoch in range(epochs):\n",
        "            optimizer.zero_grad()\n",
        "            outputs = model(X_train)\n",
        "            loss = criterion(outputs, Y_train)\n",
        "            loss.backward()\n",
        "            optimizer.step()\n",
        "\n",
        "        with torch.no_grad():\n",
        "            test_outputs = model(X_test)\n",
        "            test_loss = criterion(test_outputs, Y_test).item()\n",
        "\n",
        "        results.append({\n",
        "            'input_size': input_size,\n",
        "            'hidden_size': hidden_size,\n",
        "            'training_loss': loss.item(),\n",
        "            'testing_loss': test_loss\n",
        "        })"
      ],
      "metadata": {
        "id": "2ffUovctdeKW"
      },
      "execution_count": 11,
      "outputs": []
    },
    {
      "cell_type": "code",
      "source": [
        "import pandas as pd\n",
        "\n",
        "results_df = pd.DataFrame(results)\n",
        "\n",
        "results_df.to_csv(\"relu_nn_training_results.csv\", index=False)\n",
        "print(\"Results saved to relu_nn_training_results.csv\")\n",
        "\n",
        "print(results_df)"
      ],
      "metadata": {
        "colab": {
          "base_uri": "https://localhost:8080/"
        },
        "id": "yJ9SsEgxdyO_",
        "outputId": "d673059e-e385-4870-9746-edb206236db4"
      },
      "execution_count": 12,
      "outputs": [
        {
          "output_type": "stream",
          "name": "stdout",
          "text": [
            "Results saved to relu_nn_training_results.csv\n",
            "   input_size  hidden_size  training_loss  testing_loss\n",
            "0           3            1   4.472336e-01  4.659176e-01\n",
            "1           3            2   2.012063e-07  1.896108e-07\n",
            "2           3            3   9.095384e-06  9.163902e-06\n",
            "3           3            4   5.275306e-06  5.075362e-06\n",
            "4           3            5   8.419807e-05  8.446466e-05\n",
            "5           3            6   4.571057e-05  4.608948e-05\n",
            "6           3            7   2.954023e-05  2.789884e-05\n",
            "7           3            8   1.131046e-04  1.256660e-04\n",
            "8           3            9   5.967891e-05  6.216433e-05\n",
            "9           3           10   2.057529e-04  2.110947e-04\n"
          ]
        }
      ]
    },
    {
      "cell_type": "code",
      "source": [
        "df = pd.read_csv(\"relu_nn_training_results.csv\")\n",
        "\n",
        "min_loss = df[\"testing_loss\"].min()\n",
        "\n",
        "epsilon = 0.05  #Allowable margin for loss\n",
        "\n",
        "filtered_df = df[df[\"testing_loss\"] <= min_loss + epsilon]\n",
        "\n",
        "best_model = filtered_df.sort_values(by=\"hidden_size\").iloc[0]\n",
        "\n",
        "print(\"Best Model:\")\n",
        "print(best_model)"
      ],
      "metadata": {
        "colab": {
          "base_uri": "https://localhost:8080/"
        },
        "id": "3EIFc5f6mhLH",
        "outputId": "e4aff92f-a10b-4bec-c258-b9745e740db4"
      },
      "execution_count": 13,
      "outputs": [
        {
          "output_type": "stream",
          "name": "stdout",
          "text": [
            "Best Model:\n",
            "input_size       3.000000e+00\n",
            "hidden_size      2.000000e+00\n",
            "training_loss    2.012063e-07\n",
            "testing_loss     1.896108e-07\n",
            "Name: 1, dtype: float64\n"
          ]
        }
      ]
    },
    {
      "cell_type": "code",
      "source": [
        "import matplotlib.pyplot as plt\n",
        "\n",
        "best_model_info = filtered_df.sort_values(by=\"hidden_size\").iloc[0]\n",
        "best_hidden_size = int(best_model_info['hidden_size'])\n",
        "print(f\"Best model has {best_hidden_size} hidden units with testing loss {best_model_info['testing_loss']:.4f}\")\n",
        "\n",
        "torch.manual_seed(42)\n",
        "test_samples = torch.rand(20000, 3) * 20 - 10\n",
        "test_labels = torch.max(torch.tensor(0), torch.mean(test_samples, dim=1, keepdim=True))\n",
        "\n",
        "input_size = 3\n",
        "best_model = ReLU_MaxNN2(input_size, best_hidden_size)\n",
        "optimizer = optim.Adam(best_model.parameters(), lr=learning_rate)\n",
        "\n",
        "train_losses = []\n",
        "test_losses = []\n",
        "\n",
        "for epoch in range(epochs):\n",
        "    optimizer.zero_grad()\n",
        "    outputs = best_model(X)\n",
        "    loss = criterion(outputs, Y)\n",
        "    loss.backward()\n",
        "    optimizer.step()\n",
        "    train_losses.append(loss.item())\n",
        "\n",
        "    with torch.no_grad():\n",
        "        test_outputs = best_model(test_samples)\n",
        "        test_loss = criterion(test_outputs, test_labels).item()\n",
        "        test_losses.append(test_loss)\n",
        "\n",
        "    if (epoch + 1) % 100 == 0:\n",
        "        print(f'Epoch [{epoch+1}/{epochs}], Train Loss: {loss.item():.4f}, Test Loss: {test_loss:.4f}')\n",
        "\n",
        "with torch.no_grad():\n",
        "    predictions = best_model(test_samples)\n",
        "\n",
        "print(\"\\nTest Results:\")\n",
        "for i in range(10):\n",
        "    sample = test_samples[i].numpy().round(2)\n",
        "    true_avg = test_labels[i].item()\n",
        "    pred = predictions[i].item()\n",
        "    print(f\"Sample {i+1}: {sample} | True: {true_avg:.2f} | Pred: {pred:.2f}\")\n",
        "\n",
        "mae = torch.mean(torch.abs(predictions - test_labels)).item()\n",
        "print(f\"\\nMean Absolute Error: {mae:.4f}\")\n",
        "\n",
        "plt.figure(figsize=(10, 6))\n",
        "plt.plot(range(epochs), train_losses, label='Training Loss')\n",
        "plt.plot(range(epochs), test_losses, label='Testing Loss')\n",
        "plt.xlabel('Epochs')\n",
        "plt.ylabel('Loss')\n",
        "plt.title('Training and Testing Losses Over Epochs for Min Model')\n",
        "plt.legend()\n",
        "plt.grid(True)\n",
        "plt.show()"
      ],
      "metadata": {
        "colab": {
          "base_uri": "https://localhost:8080/",
          "height": 1000
        },
        "id": "u4ZIsabomuLB",
        "outputId": "ef2b249d-fcf9-4bf8-8188-e607dc71456f"
      },
      "execution_count": 14,
      "outputs": [
        {
          "output_type": "stream",
          "name": "stdout",
          "text": [
            "Best model has 2 hidden units with testing loss 0.0000\n",
            "Epoch [100/5000], Train Loss: 2.2112, Test Loss: 2.2281\n",
            "Epoch [200/5000], Train Loss: 0.6182, Test Loss: 0.6154\n",
            "Epoch [300/5000], Train Loss: 0.0984, Test Loss: 0.0974\n",
            "Epoch [400/5000], Train Loss: 0.0424, Test Loss: 0.0427\n",
            "Epoch [500/5000], Train Loss: 0.0281, Test Loss: 0.0285\n",
            "Epoch [600/5000], Train Loss: 0.0211, Test Loss: 0.0215\n",
            "Epoch [700/5000], Train Loss: 0.0169, Test Loss: 0.0172\n",
            "Epoch [800/5000], Train Loss: 0.0141, Test Loss: 0.0143\n",
            "Epoch [900/5000], Train Loss: 0.0120, Test Loss: 0.0122\n",
            "Epoch [1000/5000], Train Loss: 0.0103, Test Loss: 0.0105\n",
            "Epoch [1100/5000], Train Loss: 0.0089, Test Loss: 0.0090\n",
            "Epoch [1200/5000], Train Loss: 0.0076, Test Loss: 0.0077\n",
            "Epoch [1300/5000], Train Loss: 0.0065, Test Loss: 0.0066\n",
            "Epoch [1400/5000], Train Loss: 0.0055, Test Loss: 0.0056\n",
            "Epoch [1500/5000], Train Loss: 0.0046, Test Loss: 0.0047\n",
            "Epoch [1600/5000], Train Loss: 0.0039, Test Loss: 0.0039\n",
            "Epoch [1700/5000], Train Loss: 0.0032, Test Loss: 0.0032\n",
            "Epoch [1800/5000], Train Loss: 0.0026, Test Loss: 0.0027\n",
            "Epoch [1900/5000], Train Loss: 0.0021, Test Loss: 0.0021\n",
            "Epoch [2000/5000], Train Loss: 0.0017, Test Loss: 0.0017\n",
            "Epoch [2100/5000], Train Loss: 0.0013, Test Loss: 0.0014\n",
            "Epoch [2200/5000], Train Loss: 0.0011, Test Loss: 0.0011\n",
            "Epoch [2300/5000], Train Loss: 0.0008, Test Loss: 0.0009\n",
            "Epoch [2400/5000], Train Loss: 0.0006, Test Loss: 0.0007\n",
            "Epoch [2500/5000], Train Loss: 0.0005, Test Loss: 0.0005\n",
            "Epoch [2600/5000], Train Loss: 0.0004, Test Loss: 0.0004\n",
            "Epoch [2700/5000], Train Loss: 0.0003, Test Loss: 0.0003\n",
            "Epoch [2800/5000], Train Loss: 0.0002, Test Loss: 0.0002\n",
            "Epoch [2900/5000], Train Loss: 0.0002, Test Loss: 0.0002\n",
            "Epoch [3000/5000], Train Loss: 0.0001, Test Loss: 0.0002\n",
            "Epoch [3100/5000], Train Loss: 0.0001, Test Loss: 0.0001\n",
            "Epoch [3200/5000], Train Loss: 0.0001, Test Loss: 0.0001\n",
            "Epoch [3300/5000], Train Loss: 0.0001, Test Loss: 0.0001\n",
            "Epoch [3400/5000], Train Loss: 0.0001, Test Loss: 0.0001\n",
            "Epoch [3500/5000], Train Loss: 0.0000, Test Loss: 0.0001\n",
            "Epoch [3600/5000], Train Loss: 0.0000, Test Loss: 0.0000\n",
            "Epoch [3700/5000], Train Loss: 0.0000, Test Loss: 0.0000\n",
            "Epoch [3800/5000], Train Loss: 0.0000, Test Loss: 0.0000\n",
            "Epoch [3900/5000], Train Loss: 0.0000, Test Loss: 0.0000\n",
            "Epoch [4000/5000], Train Loss: 0.0000, Test Loss: 0.0000\n",
            "Epoch [4100/5000], Train Loss: 0.0000, Test Loss: 0.0000\n",
            "Epoch [4200/5000], Train Loss: 0.0000, Test Loss: 0.0000\n",
            "Epoch [4300/5000], Train Loss: 0.0000, Test Loss: 0.0000\n",
            "Epoch [4400/5000], Train Loss: 0.0000, Test Loss: 0.0000\n",
            "Epoch [4500/5000], Train Loss: 0.0000, Test Loss: 0.0000\n",
            "Epoch [4600/5000], Train Loss: 0.0000, Test Loss: 0.0000\n",
            "Epoch [4700/5000], Train Loss: 0.0000, Test Loss: 0.0000\n",
            "Epoch [4800/5000], Train Loss: 0.0000, Test Loss: 0.0000\n",
            "Epoch [4900/5000], Train Loss: 0.0000, Test Loss: 0.0000\n",
            "Epoch [5000/5000], Train Loss: 0.0000, Test Loss: 0.0000\n",
            "\n",
            "Test Results:\n",
            "Sample 1: [ 7.65  8.3  -2.34] | True: 4.53 | Pred: 4.53\n",
            "Sample 2: [ 9.19 -2.19  2.02] | True: 3.00 | Pred: 3.00\n",
            "Sample 3: [-4.87  5.87  8.82] | True: 3.27 | Pred: 3.27\n",
            "Sample 4: [-7.34  8.69  1.87] | True: 1.08 | Pred: 1.08\n",
            "Sample 5: [7.39 1.35 4.82] | True: 4.52 | Pred: 4.52\n",
            "Sample 6: [-1.41  7.71  1.48] | True: 2.59 | Pred: 2.59\n",
            "Sample 7: [-4.67  2.55 -4.61] | True: 0.00 | Pred: 0.00\n",
            "Sample 8: [-1.17 -4.06  6.63] | True: 0.47 | Pred: 0.47\n",
            "Sample 9: [-7.89 -4.61 -2.82] | True: 0.00 | Pred: 0.00\n",
            "Sample 10: [-6.01  0.94 -9.88] | True: 0.00 | Pred: 0.00\n",
            "\n",
            "Mean Absolute Error: 0.0003\n"
          ]
        },
        {
          "output_type": "display_data",
          "data": {
            "text/plain": [
              "<Figure size 1000x600 with 1 Axes>"
            ],
            "image/png": "[encoded data removed]"
          },
          "metadata": {}
        }
      ]
    },
    {
      "cell_type": "code",
      "source": [
        "import numpy as np\n",
        "model_params = np.concatenate([\n",
        "    param.data.numpy().flatten()\n",
        "    for param in best_model.parameters()\n",
        "])\n",
        "np.save('model_weights_biases.npy', model_params)\n",
        "\n",
        "print(\"Model saved with parameter shape:\", model_params.shape)\n",
        "print(\"parameters:\", model_params)"
      ],
      "metadata": {
        "colab": {
          "base_uri": "https://localhost:8080/"
        },
        "id": "hhNeoVvUkhPS",
        "outputId": "2e171d9d-18eb-4cbe-d11d-bd4b28d4c667"
      },
      "execution_count": 15,
      "outputs": [
        {
          "output_type": "stream",
          "name": "stdout",
          "text": [
            "Model saved with parameter shape: (11,)\n",
            "parameters: [ 0.2601237   0.2368584   0.269623    0.5975394   0.60544455  0.59430856\n",
            "  0.35995823  0.00441372  0.16431399  0.48638573 -0.06188981]\n"
          ]
        }
      ]
    }
  ]
}