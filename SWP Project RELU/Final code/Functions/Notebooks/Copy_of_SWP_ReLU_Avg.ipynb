{
  "nbformat": 4,
  "nbformat_minor": 0,
  "metadata": {
    "colab": {
      "provenance": [],
      "gpuType": "T4"
    },
    "kernelspec": {
      "name": "python3",
      "display_name": "Python 3"
    },
    "language_info": {
      "name": "python"
    },
    "accelerator": "GPU"
  },
  "cells": [
    {
      "cell_type": "code",
      "source": [
        "import torch\n",
        "import torch.nn as nn\n",
        "import torch.optim as optim"
      ],
      "metadata": {
        "id": "K9Y1kA6hbKGq"
      },
      "execution_count": 1,
      "outputs": []
    },
    {
      "cell_type": "code",
      "source": [
        "class ReLU_MaxNN2(nn.Module):\n",
        "    def __init__(self, input_size, hidden_size):\n",
        "        super(ReLU_MaxNN2, self).__init__()\n",
        "        self.hidden = nn.Linear(input_size, hidden_size)\n",
        "        self.output = nn.Linear(hidden_size, 1)\n",
        "        self.relu = nn.ReLU()\n",
        "\n",
        "    def forward(self, x):\n",
        "        hidden_out = self.relu(self.hidden(x))\n",
        "        output = self.output(hidden_out)\n",
        "        return output\n"
      ],
      "metadata": {
        "id": "IYRi69YVlAiZ"
      },
      "execution_count": 36,
      "outputs": []
    },
    {
      "cell_type": "code",
      "source": [
        "from sklearn.model_selection import train_test_split\n",
        "\n",
        "learning_rate = 0.001\n",
        "epochs = 5000\n",
        "num_samples = 100000\n",
        "\n",
        "results = []\n",
        "\n",
        "input_sizes = [3]\n",
        "hidden_sizes = [x+1 for x in range(10)]\n",
        "\n",
        "for input_size in input_sizes:\n",
        "    for hidden_size in hidden_sizes:\n",
        "\n",
        "        X = torch.rand(num_samples, input_size) * 10  #Random inputs between 0 and 10\n",
        "        Y = torch.mean(X, dim=1, keepdim=True)  #True avg of inputs\n",
        "\n",
        "        #Split into training and testing data\n",
        "        X_train, X_test, Y_train, Y_test = train_test_split(\n",
        "            X.numpy(), Y.numpy(), test_size=0.2, random_state=42\n",
        "        )\n",
        "        X_train, X_test = torch.tensor(X_train), torch.tensor(X_test)\n",
        "        Y_train, Y_test = torch.tensor(Y_train), torch.tensor(Y_test)\n",
        "\n",
        "        model = ReLU_MaxNN2(input_size, hidden_size)\n",
        "        criterion = nn.MSELoss()  #Mean Squared Error loss\n",
        "        optimizer = optim.Adam(model.parameters(), lr=learning_rate)\n",
        "\n",
        "        for epoch in range(epochs):\n",
        "            optimizer.zero_grad()\n",
        "            outputs = model(X_train)\n",
        "            loss = criterion(outputs, Y_train)\n",
        "            loss.backward()\n",
        "            optimizer.step()\n",
        "\n",
        "        with torch.no_grad():\n",
        "            test_outputs = model(X_test)\n",
        "            test_loss = criterion(test_outputs, Y_test).item()\n",
        "\n",
        "        results.append({\n",
        "            'input_size': input_size,\n",
        "            'hidden_size': hidden_size,\n",
        "            'training_loss': loss.item(),\n",
        "            'testing_loss': test_loss\n",
        "        })"
      ],
      "metadata": {
        "id": "2ffUovctdeKW"
      },
      "execution_count": 38,
      "outputs": []
    },
    {
      "cell_type": "code",
      "source": [
        "import pandas as pd\n",
        "\n",
        "results_df = pd.DataFrame(results)\n",
        "\n",
        "results_df.to_csv(\"relu_nn_training_results.csv\", index=False)\n",
        "print(\"Results saved to relu_nn_training_results.csv\")\n",
        "\n",
        "print(results_df)"
      ],
      "metadata": {
        "colab": {
          "base_uri": "https://localhost:8080/"
        },
        "id": "yJ9SsEgxdyO_",
        "outputId": "fcdee630-f253-4867-8d6e-053efec1b276"
      },
      "execution_count": 39,
      "outputs": [
        {
          "output_type": "stream",
          "name": "stdout",
          "text": [
            "Results saved to relu_nn_training_results.csv\n",
            "   input_size  hidden_size  training_loss  testing_loss\n",
            "0           3            1       3.859614      3.832577\n",
            "1           3            2       3.152930      3.098278\n",
            "2           3            3       0.000053      0.000051\n",
            "3           3            4       0.001610      0.001588\n",
            "4           3            5       0.000369      0.000358\n",
            "5           3            6       0.000040      0.000045\n",
            "6           3            7       0.000231      0.000255\n",
            "7           3            8       0.000958      0.000939\n",
            "8           3            9       0.000036      0.000035\n",
            "9           3           10       0.000205      0.000220\n"
          ]
        }
      ]
    },
    {
      "cell_type": "code",
      "source": [
        "df = pd.read_csv(\"relu_nn_training_results.csv\")\n",
        "\n",
        "min_loss = df[\"testing_loss\"].min()\n",
        "\n",
        "epsilon = 0.3  #Allowable margin for loss\n",
        "\n",
        "filtered_df = df[df[\"testing_loss\"] <= min_loss + epsilon]\n",
        "\n",
        "best_model = filtered_df.sort_values(by=\"hidden_size\").iloc[0]\n",
        "\n",
        "print(\"Best Model:\")\n",
        "print(best_model)"
      ],
      "metadata": {
        "colab": {
          "base_uri": "https://localhost:8080/"
        },
        "id": "3EIFc5f6mhLH",
        "outputId": "b9331e12-9e62-4c80-ca90-91b8e49c5558"
      },
      "execution_count": 40,
      "outputs": [
        {
          "output_type": "stream",
          "name": "stdout",
          "text": [
            "Best Model:\n",
            "input_size       3.000000\n",
            "hidden_size      3.000000\n",
            "training_loss    0.000053\n",
            "testing_loss     0.000051\n",
            "Name: 2, dtype: float64\n"
          ]
        }
      ]
    },
    {
      "cell_type": "code",
      "source": [
        "import matplotlib.pyplot as plt\n",
        "\n",
        "best_model_info = filtered_df.sort_values(by=\"hidden_size\").iloc[0]\n",
        "best_hidden_size = int(best_model_info['hidden_size'])\n",
        "print(f\"Best model has {best_hidden_size} hidden units with testing loss {best_model_info['testing_loss']:.4f}\")\n",
        "\n",
        "torch.manual_seed(42)\n",
        "test_samples = torch.rand(10, 3) * 10\n",
        "test_labels = torch.mean(test_samples, dim=1, keepdim=True)\n",
        "\n",
        "input_size = 3\n",
        "best_model = ReLU_MaxNN2(input_size, best_hidden_size)\n",
        "optimizer = optim.Adam(best_model.parameters(), lr=learning_rate)\n",
        "\n",
        "train_losses = []\n",
        "test_losses = []\n",
        "\n",
        "for epoch in range(epochs):\n",
        "    optimizer.zero_grad()\n",
        "    outputs = best_model(X)\n",
        "    loss = criterion(outputs, Y)\n",
        "    loss.backward()\n",
        "    optimizer.step()\n",
        "    train_losses.append(loss.item())\n",
        "\n",
        "    with torch.no_grad():\n",
        "        test_outputs = best_model(test_samples)\n",
        "        test_loss = criterion(test_outputs, test_labels).item()\n",
        "        test_losses.append(test_loss)\n",
        "\n",
        "    if (epoch + 1) % 100 == 0:\n",
        "        print(f'Epoch [{epoch+1}/{epochs}], Train Loss: {loss.item():.4f}, Test Loss: {test_loss:.4f}')\n",
        "\n",
        "with torch.no_grad():\n",
        "    predictions = best_model(test_samples)\n",
        "\n",
        "print(\"\\nTest Results:\")\n",
        "for i in range(10):\n",
        "    sample = test_samples[i].numpy().round(2)\n",
        "    true_avg = test_labels[i].item()\n",
        "    pred = predictions[i].item()\n",
        "    print(f\"Sample {i+1}: {sample} | True: {true_avg:.2f} | Pred: {pred:.2f}\")\n",
        "\n",
        "mae = torch.mean(torch.abs(predictions - test_labels)).item()\n",
        "print(f\"\\nMean Absolute Error: {mae:.4f}\")\n",
        "\n",
        "plt.figure(figsize=(10, 6))\n",
        "plt.plot(range(epochs), train_losses, label='Training Loss')\n",
        "plt.plot(range(epochs), test_losses, label='Testing Loss')\n",
        "plt.xlabel('Epochs')\n",
        "plt.ylabel('Loss')\n",
        "plt.title('Training and Testing Losses Over Epochs for Average Model')\n",
        "plt.legend()\n",
        "plt.grid(True)\n",
        "plt.show()"
      ],
      "metadata": {
        "colab": {
          "base_uri": "https://localhost:8080/",
          "height": 1000
        },
        "id": "u4ZIsabomuLB",
        "outputId": "7843cc0b-70c0-4fc6-9c2a-96e71062b1ec"
      },
      "execution_count": 42,
      "outputs": [
        {
          "output_type": "stream",
          "name": "stdout",
          "text": [
            "Best model has 3 hidden units with testing loss 0.0001\n",
            "Epoch [100/5000], Train Loss: 1.1710, Test Loss: 1.4381\n",
            "Epoch [200/5000], Train Loss: 0.5319, Test Loss: 0.5196\n",
            "Epoch [300/5000], Train Loss: 0.2607, Test Loss: 0.2492\n",
            "Epoch [400/5000], Train Loss: 0.1129, Test Loss: 0.1053\n",
            "Epoch [500/5000], Train Loss: 0.0439, Test Loss: 0.0396\n",
            "Epoch [600/5000], Train Loss: 0.0158, Test Loss: 0.0134\n",
            "Epoch [700/5000], Train Loss: 0.0058, Test Loss: 0.0043\n",
            "Epoch [800/5000], Train Loss: 0.0026, Test Loss: 0.0014\n",
            "Epoch [900/5000], Train Loss: 0.0017, Test Loss: 0.0006\n",
            "Epoch [1000/5000], Train Loss: 0.0014, Test Loss: 0.0004\n",
            "Epoch [1100/5000], Train Loss: 0.0013, Test Loss: 0.0004\n",
            "Epoch [1200/5000], Train Loss: 0.0013, Test Loss: 0.0003\n",
            "Epoch [1300/5000], Train Loss: 0.0013, Test Loss: 0.0003\n",
            "Epoch [1400/5000], Train Loss: 0.0012, Test Loss: 0.0003\n",
            "Epoch [1500/5000], Train Loss: 0.0012, Test Loss: 0.0003\n",
            "Epoch [1600/5000], Train Loss: 0.0012, Test Loss: 0.0003\n",
            "Epoch [1700/5000], Train Loss: 0.0011, Test Loss: 0.0003\n",
            "Epoch [1800/5000], Train Loss: 0.0011, Test Loss: 0.0002\n",
            "Epoch [1900/5000], Train Loss: 0.0010, Test Loss: 0.0002\n",
            "Epoch [2000/5000], Train Loss: 0.0010, Test Loss: 0.0002\n",
            "Epoch [2100/5000], Train Loss: 0.0010, Test Loss: 0.0002\n",
            "Epoch [2200/5000], Train Loss: 0.0009, Test Loss: 0.0002\n",
            "Epoch [2300/5000], Train Loss: 0.0009, Test Loss: 0.0002\n",
            "Epoch [2400/5000], Train Loss: 0.0009, Test Loss: 0.0001\n",
            "Epoch [2500/5000], Train Loss: 0.0008, Test Loss: 0.0001\n",
            "Epoch [2600/5000], Train Loss: 0.0008, Test Loss: 0.0001\n",
            "Epoch [2700/5000], Train Loss: 0.0008, Test Loss: 0.0001\n",
            "Epoch [2800/5000], Train Loss: 0.0007, Test Loss: 0.0001\n",
            "Epoch [2900/5000], Train Loss: 0.0007, Test Loss: 0.0001\n",
            "Epoch [3000/5000], Train Loss: 0.0007, Test Loss: 0.0001\n",
            "Epoch [3100/5000], Train Loss: 0.0006, Test Loss: 0.0001\n",
            "Epoch [3200/5000], Train Loss: 0.0006, Test Loss: 0.0001\n",
            "Epoch [3300/5000], Train Loss: 0.0006, Test Loss: 0.0001\n",
            "Epoch [3400/5000], Train Loss: 0.0006, Test Loss: 0.0001\n",
            "Epoch [3500/5000], Train Loss: 0.0005, Test Loss: 0.0001\n",
            "Epoch [3600/5000], Train Loss: 0.0005, Test Loss: 0.0001\n",
            "Epoch [3700/5000], Train Loss: 0.0005, Test Loss: 0.0001\n",
            "Epoch [3800/5000], Train Loss: 0.0004, Test Loss: 0.0001\n",
            "Epoch [3900/5000], Train Loss: 0.0004, Test Loss: 0.0001\n",
            "Epoch [4000/5000], Train Loss: 0.0004, Test Loss: 0.0001\n",
            "Epoch [4100/5000], Train Loss: 0.0004, Test Loss: 0.0001\n",
            "Epoch [4200/5000], Train Loss: 0.0004, Test Loss: 0.0000\n",
            "Epoch [4300/5000], Train Loss: 0.0003, Test Loss: 0.0000\n",
            "Epoch [4400/5000], Train Loss: 0.0003, Test Loss: 0.0000\n",
            "Epoch [4500/5000], Train Loss: 0.0003, Test Loss: 0.0000\n",
            "Epoch [4600/5000], Train Loss: 0.0003, Test Loss: 0.0000\n",
            "Epoch [4700/5000], Train Loss: 0.0003, Test Loss: 0.0000\n",
            "Epoch [4800/5000], Train Loss: 0.0002, Test Loss: 0.0000\n",
            "Epoch [4900/5000], Train Loss: 0.0002, Test Loss: 0.0000\n",
            "Epoch [5000/5000], Train Loss: 0.0002, Test Loss: 0.0000\n",
            "\n",
            "Test Results:\n",
            "Sample 1: [8.82 9.15 3.83] | True: 7.27 | Pred: 7.27\n",
            "Sample 2: [9.59 3.9  6.01] | True: 6.50 | Pred: 6.51\n",
            "Sample 3: [2.57 7.94 9.41] | True: 6.64 | Pred: 6.64\n",
            "Sample 4: [1.33 9.35 5.94] | True: 5.54 | Pred: 5.53\n",
            "Sample 5: [8.69 5.68 7.41] | True: 7.26 | Pred: 7.26\n",
            "Sample 6: [4.29 8.85 5.74] | True: 6.30 | Pred: 6.29\n",
            "Sample 7: [2.67 6.27 2.7 ] | True: 3.88 | Pred: 3.87\n",
            "Sample 8: [4.41 2.97 8.32] | True: 5.23 | Pred: 5.23\n",
            "Sample 9: [1.05 2.69 3.59] | True: 2.45 | Pred: 2.44\n",
            "Sample 10: [1.99 5.47 0.06] | True: 2.51 | Pred: 2.50\n",
            "\n",
            "Mean Absolute Error: 0.0041\n"
          ]
        },
        {
          "output_type": "display_data",
          "data": {
            "text/plain": [
              "<Figure size 1000x600 with 1 Axes>"
            ],
            "image/png": "[encoded data removed]"
          },
          "metadata": {}
        }
      ]
    },
    {
      "cell_type": "code",
      "source": [
        "torch.save(best_model.state_dict(), 'best_relu_avg_model.pth')\n",
        "\n",
        "import numpy as np\n",
        "model_params = np.concatenate([\n",
        "    param.data.numpy().flatten()\n",
        "    for param in best_model.parameters()\n",
        "])\n",
        "np.save('model_weights_biases.npy', model_params)\n",
        "\n",
        "print(\"Model saved with parameter shape:\", model_params.shape)\n",
        "print(\"parameters:\", model_params)"
      ],
      "metadata": {
        "colab": {
          "base_uri": "https://localhost:8080/"
        },
        "id": "hhNeoVvUkhPS",
        "outputId": "a847a021-71ee-42b9-9918-34b9d9b177ff"
      },
      "execution_count": 43,
      "outputs": [
        {
          "output_type": "stream",
          "name": "stdout",
          "text": [
            "Model saved with parameter shape: (16,)\n",
            "parameters: [ 0.6359007  -0.19476405  0.48370048  0.20959274  0.02040766  0.38314515\n",
            "  0.20878425  0.68319637  0.07593981  0.00367105  0.2754795  -0.03451079\n",
            "  0.17338894  0.5501881   0.5201425  -0.14175752]\n"
          ]
        }
      ]
    }
  ]
}