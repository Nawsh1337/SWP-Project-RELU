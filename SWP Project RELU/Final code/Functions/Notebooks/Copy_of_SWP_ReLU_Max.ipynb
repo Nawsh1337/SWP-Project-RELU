{
  "nbformat": 4,
  "nbformat_minor": 0,
  "metadata": {
    "colab": {
      "provenance": [],
      "gpuType": "T4"
    },
    "kernelspec": {
      "name": "python3",
      "display_name": "Python 3"
    },
    "language_info": {
      "name": "python"
    },
    "accelerator": "GPU"
  },
  "cells": [
    {
      "cell_type": "code",
      "source": [
        "import torch\n",
        "import torch.nn as nn\n",
        "import torch.optim as optim"
      ],
      "metadata": {
        "id": "K9Y1kA6hbKGq"
      },
      "execution_count": 1,
      "outputs": []
    },
    {
      "cell_type": "code",
      "source": [
        "class ReLU_MaxNN2(nn.Module):\n",
        "    def __init__(self, input_size, hidden_size):\n",
        "        super(ReLU_MaxNN2, self).__init__()\n",
        "        self.hidden = nn.Linear(input_size, hidden_size)\n",
        "        self.output = nn.Linear(hidden_size, 1)\n",
        "        self.relu = nn.ReLU()\n",
        "\n",
        "    def forward(self, x):\n",
        "        hidden_out = self.relu(self.hidden(x))\n",
        "        output = self.relu(self.output(hidden_out))\n",
        "        return output"
      ],
      "metadata": {
        "id": "IYRi69YVlAiZ"
      },
      "execution_count": 2,
      "outputs": []
    },
    {
      "cell_type": "code",
      "source": [
        "from sklearn.model_selection import train_test_split\n",
        "\n",
        "learning_rate = 0.001\n",
        "epochs = 5000\n",
        "num_samples = 100000\n",
        "\n",
        "results = []\n",
        "\n",
        "input_sizes = [3]\n",
        "hidden_sizes = [x+1 for x in range(10)]\n",
        "\n",
        "for input_size in input_sizes:\n",
        "    for hidden_size in hidden_sizes:\n",
        "\n",
        "        X = torch.rand(num_samples, input_size) * 20 - 10  #Random inputs between -10 and 10\n",
        "        Y = torch.max(torch.tensor(0), torch.max(X, dim=1, keepdim=True)[0])  #True min of inputs or 0 (relu)\n",
        "\n",
        "        #Split into training and testing data\n",
        "        X_train, X_test, Y_train, Y_test = train_test_split(\n",
        "            X.numpy(), Y.numpy(), test_size=0.2, random_state=42\n",
        "        )\n",
        "        X_train, X_test = torch.tensor(X_train), torch.tensor(X_test)\n",
        "        Y_train, Y_test = torch.tensor(Y_train), torch.tensor(Y_test)\n",
        "\n",
        "        model = ReLU_MaxNN2(input_size, hidden_size)\n",
        "        criterion = nn.MSELoss()  #Mean Squared Error loss\n",
        "        optimizer = optim.Adam(model.parameters(), lr=learning_rate)\n",
        "\n",
        "        for epoch in range(epochs):\n",
        "            optimizer.zero_grad()\n",
        "            outputs = model(X_train)\n",
        "            loss = criterion(outputs, Y_train)\n",
        "            loss.backward()\n",
        "            optimizer.step()\n",
        "\n",
        "        with torch.no_grad():\n",
        "            test_outputs = model(X_test)\n",
        "            test_loss = criterion(test_outputs, Y_test).item()\n",
        "\n",
        "        results.append({\n",
        "            'input_size': input_size,\n",
        "            'hidden_size': hidden_size,\n",
        "            'training_loss': loss.item(),\n",
        "            'testing_loss': test_loss\n",
        "        })"
      ],
      "metadata": {
        "id": "2ffUovctdeKW"
      },
      "execution_count": 3,
      "outputs": []
    },
    {
      "cell_type": "code",
      "source": [
        "import pandas as pd\n",
        "\n",
        "results_df = pd.DataFrame(results)\n",
        "\n",
        "results_df.to_csv(\"relu_nn_training_results.csv\", index=False)\n",
        "print(\"Results saved to relu_nn_training_results.csv\")\n",
        "\n",
        "print(results_df)"
      ],
      "metadata": {
        "colab": {
          "base_uri": "https://localhost:8080/"
        },
        "id": "yJ9SsEgxdyO_",
        "outputId": "5bb96b6d-203f-4cd4-e411-9e48ff7e38ad"
      },
      "execution_count": 4,
      "outputs": [
        {
          "output_type": "stream",
          "name": "stdout",
          "text": [
            "Results saved to relu_nn_training_results.csv\n",
            "   input_size  hidden_size  training_loss  testing_loss\n",
            "0           3            1       4.654185      4.687380\n",
            "1           3            2       3.129288      3.141201\n",
            "2           3            3       0.901110      0.896847\n",
            "3           3            4       0.894167      0.890790\n",
            "4           3            5       0.507851      0.515356\n",
            "5           3            6       0.319215      0.322743\n",
            "6           3            7       0.268060      0.262442\n",
            "7           3            8       0.284856      0.287632\n",
            "8           3            9       0.249928      0.260402\n",
            "9           3           10       0.174953      0.178346\n"
          ]
        }
      ]
    },
    {
      "cell_type": "code",
      "source": [
        "df = pd.read_csv(\"relu_nn_training_results.csv\")\n",
        "\n",
        "min_loss = df[\"testing_loss\"].min()\n",
        "\n",
        "epsilon = 0.05  #Allowable margin for loss\n",
        "\n",
        "filtered_df = df[df[\"testing_loss\"] <= min_loss + epsilon]\n",
        "\n",
        "best_model = filtered_df.sort_values(by=\"hidden_size\").iloc[0]\n",
        "\n",
        "print(\"Best Model:\")\n",
        "print(best_model)"
      ],
      "metadata": {
        "colab": {
          "base_uri": "https://localhost:8080/"
        },
        "id": "3EIFc5f6mhLH",
        "outputId": "8c125ecf-5810-450e-d004-4abdd1b34887"
      },
      "execution_count": 5,
      "outputs": [
        {
          "output_type": "stream",
          "name": "stdout",
          "text": [
            "Best Model:\n",
            "input_size        3.000000\n",
            "hidden_size      10.000000\n",
            "training_loss     0.174953\n",
            "testing_loss      0.178346\n",
            "Name: 9, dtype: float64\n"
          ]
        }
      ]
    },
    {
      "cell_type": "code",
      "source": [
        "import matplotlib.pyplot as plt\n",
        "\n",
        "best_model_info = filtered_df.sort_values(by=\"hidden_size\").iloc[0]\n",
        "best_hidden_size = int(best_model_info['hidden_size'])\n",
        "print(f\"Best model has {best_hidden_size} hidden units with testing loss {best_model_info['testing_loss']:.4f}\")\n",
        "\n",
        "torch.manual_seed(42)\n",
        "test_samples = torch.rand(20000, 3) * 20 - 10\n",
        "test_labels = torch.max(torch.tensor(0), torch.max(test_samples, dim=1, keepdim=True)[0])\n",
        "\n",
        "input_size = 3\n",
        "best_model = ReLU_MaxNN2(input_size, best_hidden_size)\n",
        "optimizer = optim.Adam(best_model.parameters(), lr=learning_rate)\n",
        "\n",
        "train_losses = []\n",
        "test_losses = []\n",
        "\n",
        "for epoch in range(epochs):\n",
        "    optimizer.zero_grad()\n",
        "    outputs = best_model(X)\n",
        "    loss = criterion(outputs, Y)\n",
        "    loss.backward()\n",
        "    optimizer.step()\n",
        "    train_losses.append(loss.item())\n",
        "\n",
        "    with torch.no_grad():\n",
        "        test_outputs = best_model(test_samples)\n",
        "        test_loss = criterion(test_outputs, test_labels).item()\n",
        "        test_losses.append(test_loss)\n",
        "\n",
        "    if (epoch + 1) % 100 == 0:\n",
        "        print(f'Epoch [{epoch+1}/{epochs}], Train Loss: {loss.item():.4f}, Test Loss: {test_loss:.4f}')\n",
        "\n",
        "with torch.no_grad():\n",
        "    predictions = best_model(test_samples)\n",
        "\n",
        "print(\"\\nTest Results:\")\n",
        "for i in range(10):\n",
        "    sample = test_samples[i].numpy().round(2)\n",
        "    true_avg = test_labels[i].item()\n",
        "    pred = predictions[i].item()\n",
        "    print(f\"Sample {i+1}: {sample} | True: {true_avg:.2f} | Pred: {pred:.2f}\")\n",
        "\n",
        "mae = torch.mean(torch.abs(predictions - test_labels)).item()\n",
        "print(f\"\\nMean Absolute Error: {mae:.4f}\")\n",
        "\n",
        "plt.figure(figsize=(10, 6))\n",
        "plt.plot(range(epochs), train_losses, label='Training Loss')\n",
        "plt.plot(range(epochs), test_losses, label='Testing Loss')\n",
        "plt.xlabel('Epochs')\n",
        "plt.ylabel('Loss')\n",
        "plt.title('Training and Testing Losses Over Epochs for Min Model')\n",
        "plt.legend()\n",
        "plt.grid(True)\n",
        "plt.show()"
      ],
      "metadata": {
        "colab": {
          "base_uri": "https://localhost:8080/",
          "height": 1000
        },
        "id": "u4ZIsabomuLB",
        "outputId": "0bbdc4c2-4483-4c87-f4c1-a9937369419f"
      },
      "execution_count": 6,
      "outputs": [
        {
          "output_type": "stream",
          "name": "stdout",
          "text": [
            "Best model has 10 hidden units with testing loss 0.1783\n",
            "Epoch [100/5000], Train Loss: 19.1225, Test Loss: 19.2471\n",
            "Epoch [200/5000], Train Loss: 8.2769, Test Loss: 8.2642\n",
            "Epoch [300/5000], Train Loss: 4.0347, Test Loss: 3.9946\n",
            "Epoch [400/5000], Train Loss: 2.3741, Test Loss: 2.3503\n",
            "Epoch [500/5000], Train Loss: 1.6160, Test Loss: 1.6027\n",
            "Epoch [600/5000], Train Loss: 1.2874, Test Loss: 1.2767\n",
            "Epoch [700/5000], Train Loss: 1.1329, Test Loss: 1.1239\n",
            "Epoch [800/5000], Train Loss: 1.0448, Test Loss: 1.0367\n",
            "Epoch [900/5000], Train Loss: 0.9845, Test Loss: 0.9773\n",
            "Epoch [1000/5000], Train Loss: 0.9397, Test Loss: 0.9332\n",
            "Epoch [1100/5000], Train Loss: 0.9057, Test Loss: 0.8997\n",
            "Epoch [1200/5000], Train Loss: 0.8798, Test Loss: 0.8742\n",
            "Epoch [1300/5000], Train Loss: 0.8595, Test Loss: 0.8543\n",
            "Epoch [1400/5000], Train Loss: 0.8427, Test Loss: 0.8376\n",
            "Epoch [1500/5000], Train Loss: 0.8277, Test Loss: 0.8228\n",
            "Epoch [1600/5000], Train Loss: 0.8134, Test Loss: 0.8086\n",
            "Epoch [1700/5000], Train Loss: 0.7995, Test Loss: 0.7946\n",
            "Epoch [1800/5000], Train Loss: 0.7856, Test Loss: 0.7807\n",
            "Epoch [1900/5000], Train Loss: 0.7718, Test Loss: 0.7668\n",
            "Epoch [2000/5000], Train Loss: 0.7579, Test Loss: 0.7530\n",
            "Epoch [2100/5000], Train Loss: 0.7438, Test Loss: 0.7389\n",
            "Epoch [2200/5000], Train Loss: 0.7295, Test Loss: 0.7246\n",
            "Epoch [2300/5000], Train Loss: 0.7148, Test Loss: 0.7100\n",
            "Epoch [2400/5000], Train Loss: 0.6997, Test Loss: 0.6948\n",
            "Epoch [2500/5000], Train Loss: 0.6841, Test Loss: 0.6791\n",
            "Epoch [2600/5000], Train Loss: 0.6680, Test Loss: 0.6628\n",
            "Epoch [2700/5000], Train Loss: 0.6513, Test Loss: 0.6460\n",
            "Epoch [2800/5000], Train Loss: 0.6339, Test Loss: 0.6283\n",
            "Epoch [2900/5000], Train Loss: 0.6156, Test Loss: 0.6099\n",
            "Epoch [3000/5000], Train Loss: 0.5963, Test Loss: 0.5906\n",
            "Epoch [3100/5000], Train Loss: 0.5755, Test Loss: 0.5696\n",
            "Epoch [3200/5000], Train Loss: 0.5522, Test Loss: 0.5468\n",
            "Epoch [3300/5000], Train Loss: 0.5256, Test Loss: 0.5207\n",
            "Epoch [3400/5000], Train Loss: 0.4945, Test Loss: 0.4905\n",
            "Epoch [3500/5000], Train Loss: 0.4620, Test Loss: 0.4592\n",
            "Epoch [3600/5000], Train Loss: 0.4292, Test Loss: 0.4277\n",
            "Epoch [3700/5000], Train Loss: 0.3957, Test Loss: 0.3955\n",
            "Epoch [3800/5000], Train Loss: 0.3614, Test Loss: 0.3628\n",
            "Epoch [3900/5000], Train Loss: 0.3288, Test Loss: 0.3303\n",
            "Epoch [4000/5000], Train Loss: 0.3017, Test Loss: 0.3033\n",
            "Epoch [4100/5000], Train Loss: 0.2795, Test Loss: 0.2815\n",
            "Epoch [4200/5000], Train Loss: 0.2615, Test Loss: 0.2638\n",
            "Epoch [4300/5000], Train Loss: 0.2469, Test Loss: 0.2494\n",
            "Epoch [4400/5000], Train Loss: 0.2352, Test Loss: 0.2379\n",
            "Epoch [4500/5000], Train Loss: 0.2258, Test Loss: 0.2285\n",
            "Epoch [4600/5000], Train Loss: 0.2182, Test Loss: 0.2209\n",
            "Epoch [4700/5000], Train Loss: 0.2120, Test Loss: 0.2148\n",
            "Epoch [4800/5000], Train Loss: 0.2070, Test Loss: 0.2098\n",
            "Epoch [4900/5000], Train Loss: 0.2030, Test Loss: 0.2057\n",
            "Epoch [5000/5000], Train Loss: 0.1997, Test Loss: 0.2025\n",
            "\n",
            "Test Results:\n",
            "Sample 1: [ 7.65  8.3  -2.34] | True: 8.30 | Pred: 8.68\n",
            "Sample 2: [ 9.19 -2.19  2.02] | True: 9.19 | Pred: 8.69\n",
            "Sample 3: [-4.87  5.87  8.82] | True: 8.82 | Pred: 8.41\n",
            "Sample 4: [-7.34  8.69  1.87] | True: 8.69 | Pred: 8.26\n",
            "Sample 5: [7.39 1.35 4.82] | True: 7.39 | Pred: 7.34\n",
            "Sample 6: [-1.41  7.71  1.48] | True: 7.71 | Pred: 7.23\n",
            "Sample 7: [-4.67  2.55 -4.61] | True: 2.55 | Pred: 2.35\n",
            "Sample 8: [-1.17 -4.06  6.63] | True: 6.63 | Pred: 6.35\n",
            "Sample 9: [-7.89 -4.61 -2.82] | True: 0.00 | Pred: 0.00\n",
            "Sample 10: [-6.01  0.94 -9.88] | True: 0.94 | Pred: 1.26\n",
            "\n",
            "Mean Absolute Error: 0.2955\n"
          ]
        },
        {
          "output_type": "display_data",
          "data": {
            "text/plain": [
              "<Figure size 1000x600 with 1 Axes>"
            ],
            "image/png": "[encoded data removed]"
          },
          "metadata": {}
        }
      ]
    },
    {
      "cell_type": "code",
      "source": [
        "import numpy as np\n",
        "model_params = np.concatenate([\n",
        "    param.data.numpy().flatten()\n",
        "    for param in best_model.parameters()\n",
        "])\n",
        "np.save('model_weights_biases.npy', model_params)\n",
        "\n",
        "print(\"Model saved with parameter shape:\", model_params.shape)\n",
        "print(\"parameters:\", model_params)"
      ],
      "metadata": {
        "colab": {
          "base_uri": "https://localhost:8080/"
        },
        "id": "hhNeoVvUkhPS",
        "outputId": "306d8a8f-4403-4d76-f1df-952a9f24d178"
      },
      "execution_count": 7,
      "outputs": [
        {
          "output_type": "stream",
          "name": "stdout",
          "text": [
            "Model saved with parameter shape: (51,)\n",
            "parameters: [ 3.7588817e-01 -3.4223083e-01  3.3055592e-01  4.1566965e-01\n",
            "  4.6265370e-01 -2.6612046e-01  1.8372823e-02 -3.9431673e-01\n",
            "  4.9917588e-01 -2.2926052e-01 -3.0969983e-04 -2.4256068e-01\n",
            " -1.7588811e-01  4.9760422e-01 -2.0807648e-01  5.1106668e-01\n",
            "  4.1582716e-01 -1.5727887e-01  4.9418542e-01 -2.3381719e-01\n",
            " -6.7921035e-02 -3.6917898e-01  2.7407974e-01  2.9528606e-01\n",
            "  2.6147896e-01  3.3858308e-01 -5.8664101e-01 -2.7127963e-01\n",
            " -1.0590446e-01  5.5324596e-01  1.6665628e+00 -1.1157352e+00\n",
            " -4.7464469e-01  2.1769793e+00 -1.9198743e+00  6.2721777e-01\n",
            " -1.0927404e+00  1.8126743e+00  2.1912961e+00 -1.6068248e+00\n",
            "  4.8758501e-01 -3.2864112e-01  2.6069161e-01 -1.0111432e+00\n",
            "  8.5541940e-01  4.1534096e-01  5.7082373e-01  9.9609077e-01\n",
            "  7.1306002e-01  3.3200136e-01 -3.1495717e-01]\n"
          ]
        }
      ]
    }
  ]
}