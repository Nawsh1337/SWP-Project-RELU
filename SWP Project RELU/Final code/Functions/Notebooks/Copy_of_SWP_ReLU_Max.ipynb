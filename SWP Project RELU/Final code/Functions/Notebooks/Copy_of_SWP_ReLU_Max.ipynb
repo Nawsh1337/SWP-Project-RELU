{
  "nbformat": 4,
  "nbformat_minor": 0,
  "metadata": {
    "colab": {
      "provenance": [],
      "gpuType": "T4"
    },
    "kernelspec": {
      "name": "python3",
      "display_name": "Python 3"
    },
    "language_info": {
      "name": "python"
    },
    "accelerator": "GPU"
  },
  "cells": [
    {
      "cell_type": "code",
      "source": [
        "import torch\n",
        "import torch.nn as nn\n",
        "import torch.optim as optim"
      ],
      "metadata": {
        "id": "K9Y1kA6hbKGq"
      },
      "execution_count": 1,
      "outputs": []
    },
    {
      "cell_type": "code",
      "source": [
        "class ReLU_MaxNN2(nn.Module):\n",
        "    def __init__(self, input_size, hidden_size):\n",
        "        super(ReLU_MaxNN2, self).__init__()\n",
        "        self.hidden = nn.Linear(input_size, hidden_size)\n",
        "        self.output = nn.Linear(hidden_size, 1)\n",
        "        self.relu = nn.ReLU()\n",
        "\n",
        "    def forward(self, x):\n",
        "        hidden_out = self.relu(self.hidden(x))\n",
        "        output = self.output(hidden_out)\n",
        "        return output\n"
      ],
      "metadata": {
        "id": "IYRi69YVlAiZ"
      },
      "execution_count": 12,
      "outputs": []
    },
    {
      "cell_type": "code",
      "source": [
        "from sklearn.model_selection import train_test_split\n",
        "\n",
        "learning_rate = 0.001\n",
        "epochs = 5000\n",
        "num_samples = 100000\n",
        "\n",
        "results = []\n",
        "\n",
        "input_sizes = [3]\n",
        "hidden_sizes = [x+1 for x in range(10)]\n",
        "\n",
        "for input_size in input_sizes:\n",
        "    for hidden_size in hidden_sizes:\n",
        "\n",
        "        X = torch.rand(num_samples, input_size) * 10  #Random inputs between 0 and 10\n",
        "        Y = torch.max(X, dim=1, keepdim=True)[0]  #True max of inputs\n",
        "\n",
        "        #Split into training and testing data\n",
        "        X_train, X_test, Y_train, Y_test = train_test_split(\n",
        "            X.numpy(), Y.numpy(), test_size=0.2, random_state=42\n",
        "        )\n",
        "        X_train, X_test = torch.tensor(X_train), torch.tensor(X_test)\n",
        "        Y_train, Y_test = torch.tensor(Y_train), torch.tensor(Y_test)\n",
        "\n",
        "        model = ReLU_MaxNN2(input_size, hidden_size)\n",
        "        criterion = nn.MSELoss()  #Mean Squared Error loss\n",
        "        optimizer = optim.Adam(model.parameters(), lr=learning_rate)\n",
        "\n",
        "        for epoch in range(epochs):\n",
        "            optimizer.zero_grad()\n",
        "            outputs = model(X_train)\n",
        "            loss = criterion(outputs, Y_train)\n",
        "            loss.backward()\n",
        "            optimizer.step()\n",
        "\n",
        "        with torch.no_grad():\n",
        "            test_outputs = model(X_test)\n",
        "            test_loss = criterion(test_outputs, Y_test).item()\n",
        "\n",
        "        results.append({\n",
        "            'input_size': input_size,\n",
        "            'hidden_size': hidden_size,\n",
        "            'training_loss': loss.item(),\n",
        "            'testing_loss': test_loss\n",
        "        })"
      ],
      "metadata": {
        "id": "2ffUovctdeKW"
      },
      "execution_count": 13,
      "outputs": []
    },
    {
      "cell_type": "code",
      "source": [
        "import pandas as pd\n",
        "\n",
        "results_df = pd.DataFrame(results)\n",
        "\n",
        "results_df.to_csv(\"relu_nn_training_results.csv\", index=False)\n",
        "print(\"Results saved to relu_nn_training_results.csv\")\n",
        "\n",
        "print(results_df)"
      ],
      "metadata": {
        "colab": {
          "base_uri": "https://localhost:8080/"
        },
        "id": "yJ9SsEgxdyO_",
        "outputId": "7d25c8f0-3420-45cd-abf8-5bfaddd1534e"
      },
      "execution_count": 14,
      "outputs": [
        {
          "output_type": "stream",
          "name": "stdout",
          "text": [
            "Results saved to relu_nn_training_results.csv\n",
            "   input_size  hidden_size  training_loss  testing_loss\n",
            "0           3            1      14.370409     14.323876\n",
            "1           3            2       1.555655      1.558429\n",
            "2           3            3       0.276478      0.274847\n",
            "3           3            4       1.504587      1.503919\n",
            "4           3            5       0.243241      0.240258\n",
            "5           3            6       1.499433      1.504272\n",
            "6           3            7       0.872112      0.865984\n",
            "7           3            8       1.237112      1.242035\n",
            "8           3            9       0.149780      0.152598\n",
            "9           3           10       0.062088      0.062612\n"
          ]
        }
      ]
    },
    {
      "cell_type": "code",
      "source": [
        "df = pd.read_csv(\"relu_nn_training_results.csv\")\n",
        "\n",
        "min_loss = df[\"testing_loss\"].min()\n",
        "\n",
        "epsilon = 0.3  #Allowable margin for loss\n",
        "\n",
        "filtered_df = df[df[\"testing_loss\"] <= min_loss + epsilon]\n",
        "\n",
        "best_model = filtered_df.sort_values(by=\"hidden_size\").iloc[0]\n",
        "\n",
        "print(\"Best Model:\")\n",
        "print(best_model)"
      ],
      "metadata": {
        "colab": {
          "base_uri": "https://localhost:8080/"
        },
        "id": "3EIFc5f6mhLH",
        "outputId": "5cce9df1-5645-4231-d516-27e7f022bd9d"
      },
      "execution_count": 17,
      "outputs": [
        {
          "output_type": "stream",
          "name": "stdout",
          "text": [
            "Best Model:\n",
            "input_size       3.000000\n",
            "hidden_size      3.000000\n",
            "training_loss    0.276478\n",
            "testing_loss     0.274847\n",
            "Name: 2, dtype: float64\n"
          ]
        }
      ]
    },
    {
      "cell_type": "code",
      "source": [
        "import matplotlib.pyplot as plt\n",
        "\n",
        "best_model_info = filtered_df.sort_values(by=\"hidden_size\").iloc[0]\n",
        "best_hidden_size = int(best_model_info['hidden_size'])\n",
        "print(f\"Best model has {best_hidden_size} hidden units with testing loss {best_model_info['testing_loss']:.4f}\")\n",
        "\n",
        "torch.manual_seed(42)\n",
        "test_samples = torch.rand(10, 3) * 10\n",
        "test_labels = torch.max(test_samples, dim=1, keepdim=True)[0]\n",
        "\n",
        "input_size = 3\n",
        "best_model = ReLU_MaxNN2(input_size, best_hidden_size)\n",
        "optimizer = optim.Adam(best_model.parameters(), lr=learning_rate)\n",
        "\n",
        "train_losses = []\n",
        "test_losses = []\n",
        "\n",
        "for epoch in range(epochs):\n",
        "    optimizer.zero_grad()\n",
        "    outputs = best_model(X)\n",
        "    loss = criterion(outputs, Y)\n",
        "    loss.backward()\n",
        "    optimizer.step()\n",
        "    train_losses.append(loss.item())\n",
        "\n",
        "    with torch.no_grad():\n",
        "        test_outputs = best_model(test_samples)\n",
        "        test_loss = criterion(test_outputs, test_labels).item()\n",
        "        test_losses.append(test_loss)\n",
        "\n",
        "    if (epoch + 1) % 100 == 0:\n",
        "        print(f'Epoch [{epoch+1}/{epochs}], Train Loss: {loss.item():.4f}, Test Loss: {test_loss:.4f}')\n",
        "\n",
        "with torch.no_grad():\n",
        "    predictions = best_model(test_samples)\n",
        "\n",
        "print(\"\\nTest Results:\")\n",
        "for i in range(10):\n",
        "    sample = test_samples[i].numpy().round(2)\n",
        "    true_max = test_labels[i].item()\n",
        "    pred = predictions[i].item()\n",
        "    print(f\"Sample {i+1}: {sample} | True: {true_max:.2f} | Pred: {pred:.2f}\")\n",
        "\n",
        "mae = torch.mean(torch.abs(predictions - test_labels)).item()\n",
        "print(f\"\\nMean Absolute Error: {mae:.4f}\")\n",
        "\n",
        "plt.figure(figsize=(10, 6))\n",
        "plt.plot(range(epochs), train_losses, label='Training Loss')\n",
        "plt.plot(range(epochs), test_losses, label='Testing Loss')\n",
        "plt.xlabel('Epochs')\n",
        "plt.ylabel('Loss')\n",
        "plt.title('Training and Testing Losses Over Epochs for Max Model')\n",
        "plt.legend()\n",
        "plt.grid(True)\n",
        "plt.show()"
      ],
      "metadata": {
        "colab": {
          "base_uri": "https://localhost:8080/",
          "height": 1000
        },
        "id": "u4ZIsabomuLB",
        "outputId": "32a77e02-864a-4328-eae8-4ebcc48ade12"
      },
      "execution_count": 23,
      "outputs": [
        {
          "output_type": "stream",
          "name": "stdout",
          "text": [
            "Best model has 3 hidden units with testing loss 0.2748\n",
            "Epoch [100/5000], Train Loss: 9.4453, Test Loss: 10.3661\n",
            "Epoch [200/5000], Train Loss: 3.5222, Test Loss: 3.0828\n",
            "Epoch [300/5000], Train Loss: 3.0283, Test Loss: 2.3478\n",
            "Epoch [400/5000], Train Loss: 2.7496, Test Loss: 1.9695\n",
            "Epoch [500/5000], Train Loss: 2.5374, Test Loss: 1.6721\n",
            "Epoch [600/5000], Train Loss: 2.3842, Test Loss: 1.4465\n",
            "Epoch [700/5000], Train Loss: 2.2762, Test Loss: 1.2804\n",
            "Epoch [800/5000], Train Loss: 2.1994, Test Loss: 1.1596\n",
            "Epoch [900/5000], Train Loss: 2.1416, Test Loss: 1.0715\n",
            "Epoch [1000/5000], Train Loss: 2.0943, Test Loss: 1.0060\n",
            "Epoch [1100/5000], Train Loss: 2.0514, Test Loss: 0.9555\n",
            "Epoch [1200/5000], Train Loss: 2.0091, Test Loss: 0.9149\n",
            "Epoch [1300/5000], Train Loss: 1.9648, Test Loss: 0.8808\n",
            "Epoch [1400/5000], Train Loss: 1.9166, Test Loss: 0.8512\n",
            "Epoch [1500/5000], Train Loss: 1.8624, Test Loss: 0.8103\n",
            "Epoch [1600/5000], Train Loss: 1.7987, Test Loss: 0.7516\n",
            "Epoch [1700/5000], Train Loss: 1.7226, Test Loss: 0.6840\n",
            "Epoch [1800/5000], Train Loss: 1.6323, Test Loss: 0.6109\n",
            "Epoch [1900/5000], Train Loss: 1.5310, Test Loss: 0.5360\n",
            "Epoch [2000/5000], Train Loss: 1.4311, Test Loss: 0.4660\n",
            "Epoch [2100/5000], Train Loss: 1.3466, Test Loss: 0.4130\n",
            "Epoch [2200/5000], Train Loss: 1.2799, Test Loss: 0.3827\n",
            "Epoch [2300/5000], Train Loss: 1.2263, Test Loss: 0.3584\n",
            "Epoch [2400/5000], Train Loss: 1.1811, Test Loss: 0.3353\n",
            "Epoch [2500/5000], Train Loss: 1.1416, Test Loss: 0.3132\n",
            "Epoch [2600/5000], Train Loss: 1.1067, Test Loss: 0.2924\n",
            "Epoch [2700/5000], Train Loss: 1.0758, Test Loss: 0.2737\n",
            "Epoch [2800/5000], Train Loss: 1.0487, Test Loss: 0.2574\n",
            "Epoch [2900/5000], Train Loss: 1.0254, Test Loss: 0.2438\n",
            "Epoch [3000/5000], Train Loss: 1.0055, Test Loss: 0.2330\n",
            "Epoch [3100/5000], Train Loss: 0.9888, Test Loss: 0.2248\n",
            "Epoch [3200/5000], Train Loss: 0.9750, Test Loss: 0.2191\n",
            "Epoch [3300/5000], Train Loss: 0.9638, Test Loss: 0.2156\n",
            "Epoch [3400/5000], Train Loss: 0.9547, Test Loss: 0.2149\n",
            "Epoch [3500/5000], Train Loss: 0.9475, Test Loss: 0.2177\n",
            "Epoch [3600/5000], Train Loss: 0.9418, Test Loss: 0.2218\n",
            "Epoch [3700/5000], Train Loss: 0.9372, Test Loss: 0.2269\n",
            "Epoch [3800/5000], Train Loss: 0.9335, Test Loss: 0.2326\n",
            "Epoch [3900/5000], Train Loss: 0.9305, Test Loss: 0.2386\n",
            "Epoch [4000/5000], Train Loss: 0.9279, Test Loss: 0.2449\n",
            "Epoch [4100/5000], Train Loss: 0.9255, Test Loss: 0.2519\n",
            "Epoch [4200/5000], Train Loss: 0.9232, Test Loss: 0.2595\n",
            "Epoch [4300/5000], Train Loss: 0.9209, Test Loss: 0.2677\n",
            "Epoch [4400/5000], Train Loss: 0.9184, Test Loss: 0.2763\n",
            "Epoch [4500/5000], Train Loss: 0.9158, Test Loss: 0.2853\n",
            "Epoch [4600/5000], Train Loss: 0.9131, Test Loss: 0.2944\n",
            "Epoch [4700/5000], Train Loss: 0.9103, Test Loss: 0.3031\n",
            "Epoch [4800/5000], Train Loss: 0.9073, Test Loss: 0.3114\n",
            "Epoch [4900/5000], Train Loss: 0.9040, Test Loss: 0.3192\n",
            "Epoch [5000/5000], Train Loss: 0.9004, Test Loss: 0.3271\n",
            "\n",
            "Test Results:\n",
            "Sample 1: [8.82 9.15 3.83] | True: 9.15 | Pred: 9.33\n",
            "Sample 2: [9.59 3.9  6.01] | True: 9.59 | Pred: 9.24\n",
            "Sample 3: [2.57 7.94 9.41] | True: 9.41 | Pred: 8.24\n",
            "Sample 4: [1.33 9.35 5.94] | True: 9.35 | Pred: 9.09\n",
            "Sample 5: [8.69 5.68 7.41] | True: 8.69 | Pred: 9.50\n",
            "Sample 6: [4.29 8.85 5.74] | True: 8.85 | Pred: 8.89\n",
            "Sample 7: [2.67 6.27 2.7 ] | True: 6.27 | Pred: 6.66\n",
            "Sample 8: [4.41 2.97 8.32] | True: 8.32 | Pred: 7.91\n",
            "Sample 9: [1.05 2.69 3.59] | True: 3.59 | Pred: 4.32\n",
            "Sample 10: [1.99 5.47 0.06] | True: 5.47 | Pred: 5.88\n",
            "\n",
            "Mean Absolute Error: 0.4754\n"
          ]
        },
        {
          "output_type": "display_data",
          "data": {
            "text/plain": [
              "<Figure size 1000x600 with 1 Axes>"
            ],
            "image/png": "[encoded data removed]"
          },
          "metadata": {}
        }
      ]
    },
    {
      "cell_type": "code",
      "source": [
        "torch.save(best_model.state_dict(), 'best_relu_max_model.pth')\n",
        "\n",
        "import numpy as np\n",
        "model_params = np.concatenate([\n",
        "    param.data.numpy().flatten()\n",
        "    for param in best_model.parameters()\n",
        "])\n",
        "np.save('model_weights_biases.npy', model_params)\n",
        "\n",
        "print(\"Model saved with parameter shape:\", model_params.shape)\n",
        "print(\"parameters:\", model_params)"
      ],
      "metadata": {
        "colab": {
          "base_uri": "https://localhost:8080/"
        },
        "id": "hhNeoVvUkhPS",
        "outputId": "563c34b2-59c5-4d4d-dfc1-5121a0944a4b"
      },
      "execution_count": 21,
      "outputs": [
        {
          "output_type": "stream",
          "name": "stdout",
          "text": [
            "Model saved with parameter shape: (16,)\n",
            "parameters: [ 0.51775503 -1.003683    0.534484    0.04969251  0.20916763  0.2872349\n",
            "  0.04451663  0.8909129  -0.21623567  0.8832733   0.9526028   0.68130195\n",
            "  0.73741275  0.68584925  0.70220864  0.41128033]\n"
          ]
        }
      ]
    }
  ]
}