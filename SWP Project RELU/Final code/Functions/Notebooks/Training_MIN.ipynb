{
  "nbformat": 4,
  "nbformat_minor": 0,
  "metadata": {
    "colab": {
      "provenance": [],
      "gpuType": "T4"
    },
    "kernelspec": {
      "name": "python3",
      "display_name": "Python 3"
    },
    "language_info": {
      "name": "python"
    },
    "accelerator": "GPU"
  },
  "cells": [
    {
      "cell_type": "code",
      "source": [
        "import torch\n",
        "import torch.nn as nn\n",
        "import torch.optim as optim"
      ],
      "metadata": {
        "id": "K9Y1kA6hbKGq"
      },
      "execution_count": 1,
      "outputs": []
    },
    {
      "cell_type": "code",
      "source": [
        "class ReLU_MinNN2(nn.Module):\n",
        "    def __init__(self, input_size, hidden_size):\n",
        "        super(ReLU_MinNN2, self).__init__()\n",
        "        self.hidden = nn.Linear(input_size, hidden_size)\n",
        "        self.output = nn.Linear(hidden_size, 1)\n",
        "        self.relu = nn.ReLU()\n",
        "\n",
        "    def forward(self, x):\n",
        "        hidden_out = self.relu(self.hidden(x))\n",
        "        output = self.output(hidden_out)\n",
        "\n",
        "        return self.relu(output)"
      ],
      "metadata": {
        "id": "IYRi69YVlAiZ"
      },
      "execution_count": 2,
      "outputs": []
    },
    {
      "cell_type": "code",
      "source": [
        "from sklearn.model_selection import train_test_split\n",
        "\n",
        "learning_rate = 0.001\n",
        "epochs = 5000\n",
        "num_samples = 100000\n",
        "\n",
        "results = []\n",
        "\n",
        "input_sizes = [3]\n",
        "hidden_sizes = [x+1 for x in range(10)]\n",
        "\n",
        "for input_size in input_sizes:\n",
        "    for hidden_size in hidden_sizes:\n",
        "\n",
        "        X = torch.rand(num_samples, input_size) * 20 - 10  #Random inputs between -10 and 10\n",
        "        Y = torch.min(X, dim=1, keepdim=True)[0]  #True min\n",
        "\n",
        "        #DATA IS TRUE VALUE\n",
        "        #Split into training and testing data\n",
        "        X_train, X_test, Y_train, Y_test = train_test_split(\n",
        "            X.numpy(), Y.numpy(), test_size=0.2, random_state=42\n",
        "        )\n",
        "        X_train, X_test = torch.tensor(X_train), torch.tensor(X_test)\n",
        "        Y_train, Y_test = torch.tensor(Y_train), torch.tensor(Y_test)\n",
        "\n",
        "        model = ReLU_MinNN2(input_size, hidden_size)\n",
        "        criterion = nn.MSELoss()  #Mean Squared Error loss\n",
        "        optimizer = optim.Adam(model.parameters(), lr=learning_rate)\n",
        "\n",
        "        for epoch in range(epochs):\n",
        "            optimizer.zero_grad()\n",
        "            outputs = model(X_train)\n",
        "            loss = criterion(outputs, Y_train)\n",
        "            loss.backward()\n",
        "            optimizer.step()\n",
        "\n",
        "        with torch.no_grad():\n",
        "            test_outputs = model(X_test)\n",
        "            test_loss = criterion(test_outputs, Y_test).item()\n",
        "\n",
        "        results.append({\n",
        "            'input_size': input_size,\n",
        "            'hidden_size': hidden_size,\n",
        "            'training_loss': loss.item(),\n",
        "            'testing_loss': test_loss\n",
        "        })"
      ],
      "metadata": {
        "id": "2ffUovctdeKW"
      },
      "execution_count": 3,
      "outputs": []
    },
    {
      "cell_type": "code",
      "source": [
        "#Count rows where all values are positive\n",
        "positive_samples = (X > 0).all(dim=1).sum().item()\n",
        "\n",
        "print(f\"Number of samples with all positive values: {positive_samples}\")"
      ],
      "metadata": {
        "colab": {
          "base_uri": "https://localhost:8080/"
        },
        "id": "QBgVsOhj5uCT",
        "outputId": "a0a1f558-7af9-46fe-f557-c3bbca5cf1b2"
      },
      "execution_count": 8,
      "outputs": [
        {
          "output_type": "stream",
          "name": "stdout",
          "text": [
            "Number of samples with all positive values: 12543\n"
          ]
        }
      ]
    },
    {
      "cell_type": "code",
      "source": [
        "import pandas as pd\n",
        "\n",
        "results_df = pd.DataFrame(results)\n",
        "\n",
        "results_df.to_csv(\"model_training_prediction_min.csv\", index=False)\n",
        "print(\"Results saved to model_training_prediction_min.csv\")\n",
        "\n",
        "print(results_df)"
      ],
      "metadata": {
        "colab": {
          "base_uri": "https://localhost:8080/"
        },
        "id": "yJ9SsEgxdyO_",
        "outputId": "36d227f0-e635-44ef-c148-6658c52d82ed"
      },
      "execution_count": 4,
      "outputs": [
        {
          "output_type": "stream",
          "name": "stdout",
          "text": [
            "Results saved to model_training_prediction_min.csv\n",
            "   input_size  hidden_size  training_loss  testing_loss\n",
            "0           3            1      39.991673     39.908401\n",
            "1           3            2      40.045013     39.822437\n",
            "2           3            3      39.066349     39.175522\n",
            "3           3            4      38.743225     39.203976\n",
            "4           3            5      40.152855     39.798374\n",
            "5           3            6      38.858467     38.784878\n",
            "6           3            7      38.839180     39.037479\n",
            "7           3            8      38.673515     38.771877\n",
            "8           3            9      39.857948     39.877068\n",
            "9           3           10      40.041183     40.019661\n"
          ]
        }
      ]
    },
    {
      "cell_type": "code",
      "source": [
        "df = pd.read_csv(\"model_training_prediction_min.csv\")\n",
        "\n",
        "min_loss = df[\"testing_loss\"].min()\n",
        "\n",
        "epsilon = 0.05  #Allowable margin for loss\n",
        "\n",
        "filtered_df = df[df[\"testing_loss\"] <= min_loss + epsilon]\n",
        "\n",
        "best_model = filtered_df.sort_values(by=\"hidden_size\").iloc[0]\n",
        "\n",
        "print(\"Best Model:\")\n",
        "print(best_model)"
      ],
      "metadata": {
        "colab": {
          "base_uri": "https://localhost:8080/"
        },
        "id": "3EIFc5f6mhLH",
        "outputId": "524f665f-eb16-4bc2-9bcd-51b7bd3bcb1d"
      },
      "execution_count": 5,
      "outputs": [
        {
          "output_type": "stream",
          "name": "stdout",
          "text": [
            "Best Model:\n",
            "input_size        3.000000\n",
            "hidden_size       6.000000\n",
            "training_loss    38.858467\n",
            "testing_loss     38.784878\n",
            "Name: 5, dtype: float64\n"
          ]
        }
      ]
    },
    {
      "cell_type": "code",
      "source": [
        "import matplotlib.pyplot as plt\n",
        "\n",
        "best_model_info = filtered_df.sort_values(by=\"hidden_size\").iloc[0]\n",
        "best_hidden_size = int(best_model_info['hidden_size'])\n",
        "print(f\"Best model has {best_hidden_size} hidden units with testing loss {best_model_info['testing_loss']:.4f}\")\n",
        "\n",
        "torch.manual_seed(42)\n",
        "test_samples = torch.rand(20000, 3) * 20 - 10\n",
        "test_labels = torch.min(test_samples, dim=1, keepdim=True)[0]\n",
        "\n",
        "input_size = 3\n",
        "best_model = ReLU_MinNN2(input_size, best_hidden_size)\n",
        "optimizer = optim.Adam(best_model.parameters(), lr=learning_rate)\n",
        "\n",
        "train_losses = []\n",
        "test_losses = []\n",
        "\n",
        "for epoch in range(epochs):\n",
        "    optimizer.zero_grad()\n",
        "    outputs = best_model(X)\n",
        "    loss = criterion(outputs, Y)\n",
        "    loss.backward()\n",
        "    optimizer.step()\n",
        "    train_losses.append(loss.item())\n",
        "\n",
        "    with torch.no_grad():\n",
        "        test_outputs = best_model(test_samples)\n",
        "        test_loss = criterion(test_outputs, test_labels).item()\n",
        "        test_losses.append(test_loss)\n",
        "\n",
        "    if (epoch + 1) % 100 == 0:\n",
        "        print(f'Epoch [{epoch+1}/{epochs}], Train Loss: {loss.item():.4f}, Test Loss: {test_loss:.4f}')\n",
        "\n",
        "with torch.no_grad():\n",
        "    predictions = best_model(test_samples)\n",
        "\n",
        "print(\"\\nTest Results:\")\n",
        "for i in range(100):\n",
        "    sample = test_samples[i].numpy().round(2)\n",
        "    true_avg = test_labels[i].item()\n",
        "    pred = predictions[i].item()\n",
        "    print(f\"Sample {i+1}: {sample} | True: {true_avg:.2f} | Pred: {pred:.2f}\")\n",
        "\n",
        "mae = torch.mean(torch.abs(predictions - test_labels)).item()\n",
        "print(f\"\\nMean Absolute Error: {mae:.4f}\")\n",
        "\n",
        "plt.figure(figsize=(10, 6))\n",
        "plt.plot(range(epochs), train_losses, label='Training Loss')\n",
        "plt.plot(range(epochs), test_losses, label='Testing Loss')\n",
        "plt.xlabel('Epochs')\n",
        "plt.ylabel('Loss')\n",
        "plt.title('Training and Testing Losses Over Epochs for Min Model')\n",
        "plt.legend()\n",
        "plt.grid(True)\n",
        "plt.show()"
      ],
      "metadata": {
        "colab": {
          "base_uri": "https://localhost:8080/",
          "height": 1000
        },
        "id": "u4ZIsabomuLB",
        "outputId": "1b7ea082-9c4f-4cca-ae9d-eb0c4b65533e"
      },
      "execution_count": 6,
      "outputs": [
        {
          "output_type": "stream",
          "name": "stdout",
          "text": [
            "Best model has 6 hidden units with testing loss 38.7849\n",
            "Epoch [100/5000], Train Loss: 40.4664, Test Loss: 40.1852\n",
            "Epoch [200/5000], Train Loss: 40.0577, Test Loss: 39.7805\n",
            "Epoch [300/5000], Train Loss: 40.0434, Test Loss: 39.7665\n",
            "Epoch [400/5000], Train Loss: 40.0408, Test Loss: 39.7642\n",
            "Epoch [500/5000], Train Loss: 40.0395, Test Loss: 39.7629\n",
            "Epoch [600/5000], Train Loss: 40.0387, Test Loss: 39.7619\n",
            "Epoch [700/5000], Train Loss: 40.0381, Test Loss: 39.7612\n",
            "Epoch [800/5000], Train Loss: 40.0377, Test Loss: 39.7609\n",
            "Epoch [900/5000], Train Loss: 40.0374, Test Loss: 39.7607\n",
            "Epoch [1000/5000], Train Loss: 40.0373, Test Loss: 39.7605\n",
            "Epoch [1100/5000], Train Loss: 40.0371, Test Loss: 39.7604\n",
            "Epoch [1200/5000], Train Loss: 40.0371, Test Loss: 39.7603\n",
            "Epoch [1300/5000], Train Loss: 40.0370, Test Loss: 39.7602\n",
            "Epoch [1400/5000], Train Loss: 40.0370, Test Loss: 39.7602\n",
            "Epoch [1500/5000], Train Loss: 40.0370, Test Loss: 39.7601\n",
            "Epoch [1600/5000], Train Loss: 40.0369, Test Loss: 39.7601\n",
            "Epoch [1700/5000], Train Loss: 40.0369, Test Loss: 39.7601\n",
            "Epoch [1800/5000], Train Loss: 40.0369, Test Loss: 39.7600\n",
            "Epoch [1900/5000], Train Loss: 40.0369, Test Loss: 39.7600\n",
            "Epoch [2000/5000], Train Loss: 40.0369, Test Loss: 39.7600\n",
            "Epoch [2100/5000], Train Loss: 40.0369, Test Loss: 39.7600\n",
            "Epoch [2200/5000], Train Loss: 40.0369, Test Loss: 39.7600\n",
            "Epoch [2300/5000], Train Loss: 40.0369, Test Loss: 39.7600\n",
            "Epoch [2400/5000], Train Loss: 40.0369, Test Loss: 39.7600\n",
            "Epoch [2500/5000], Train Loss: 40.0369, Test Loss: 39.7600\n",
            "Epoch [2600/5000], Train Loss: 40.0369, Test Loss: 39.7600\n",
            "Epoch [2700/5000], Train Loss: 40.0369, Test Loss: 39.7600\n",
            "Epoch [2800/5000], Train Loss: 40.0369, Test Loss: 39.7600\n",
            "Epoch [2900/5000], Train Loss: 40.0369, Test Loss: 39.7600\n",
            "Epoch [3000/5000], Train Loss: 40.0369, Test Loss: 39.7600\n",
            "Epoch [3100/5000], Train Loss: 40.0369, Test Loss: 39.7600\n",
            "Epoch [3200/5000], Train Loss: 40.0369, Test Loss: 39.7600\n",
            "Epoch [3300/5000], Train Loss: 40.0369, Test Loss: 39.7600\n",
            "Epoch [3400/5000], Train Loss: 40.0369, Test Loss: 39.7600\n",
            "Epoch [3500/5000], Train Loss: 40.0369, Test Loss: 39.7600\n",
            "Epoch [3600/5000], Train Loss: 40.0369, Test Loss: 39.7600\n",
            "Epoch [3700/5000], Train Loss: 40.0369, Test Loss: 39.7600\n",
            "Epoch [3800/5000], Train Loss: 40.0369, Test Loss: 39.7600\n",
            "Epoch [3900/5000], Train Loss: 40.0369, Test Loss: 39.7600\n",
            "Epoch [4000/5000], Train Loss: 40.0369, Test Loss: 39.7600\n",
            "Epoch [4100/5000], Train Loss: 40.0369, Test Loss: 39.7600\n",
            "Epoch [4200/5000], Train Loss: 40.0369, Test Loss: 39.7600\n",
            "Epoch [4300/5000], Train Loss: 40.0369, Test Loss: 39.7600\n",
            "Epoch [4400/5000], Train Loss: 40.0369, Test Loss: 39.7600\n",
            "Epoch [4500/5000], Train Loss: 40.0369, Test Loss: 39.7600\n",
            "Epoch [4600/5000], Train Loss: 40.0369, Test Loss: 39.7600\n",
            "Epoch [4700/5000], Train Loss: 40.0369, Test Loss: 39.7600\n",
            "Epoch [4800/5000], Train Loss: 40.0369, Test Loss: 39.7600\n",
            "Epoch [4900/5000], Train Loss: 40.0369, Test Loss: 39.7600\n",
            "Epoch [5000/5000], Train Loss: 40.0369, Test Loss: 39.7600\n",
            "\n",
            "Test Results:\n",
            "Sample 1: [ 7.65  8.3  -2.34] | True: -2.34 | Pred: 0.00\n",
            "Sample 2: [ 9.19 -2.19  2.02] | True: -2.19 | Pred: 0.00\n",
            "Sample 3: [-4.87  5.87  8.82] | True: -4.87 | Pred: 0.00\n",
            "Sample 4: [-7.34  8.69  1.87] | True: -7.34 | Pred: 0.00\n",
            "Sample 5: [7.39 1.35 4.82] | True: 1.35 | Pred: 0.00\n",
            "Sample 6: [-1.41  7.71  1.48] | True: -1.41 | Pred: 0.00\n",
            "Sample 7: [-4.67  2.55 -4.61] | True: -4.67 | Pred: 0.00\n",
            "Sample 8: [-1.17 -4.06  6.63] | True: -4.06 | Pred: 0.00\n",
            "Sample 9: [-7.89 -4.61 -2.82] | True: -7.89 | Pred: 0.00\n",
            "Sample 10: [-6.01  0.94 -9.88] | True: -9.88 | Pred: 0.00\n",
            "Sample 11: [ 9.03 -8.49  7.72] | True: -8.49 | Pred: 0.00\n",
            "Sample 12: [ 1.66 -3.25  6.18] | True: -3.25 | Pred: 0.00\n",
            "Sample 13: [1.56 8.08 1.09] | True: 1.09 | Pred: 0.00\n",
            "Sample 14: [-3.15  2.69 -2.71] | True: -3.15 | Pred: 0.00\n",
            "Sample 15: [4.21 8.93 5.78] | True: 4.21 | Pred: 0.00\n",
            "Sample 16: [-4.37  5.77  1.79] | True: -4.37 | Pred: 0.00\n",
            "Sample 17: [ 5.08 -6.1  -9.9 ] | True: -9.90 | Pred: 0.00\n",
            "Sample 18: [-3.86 -7.67  8.21] | True: -7.67 | Pred: 0.00\n",
            "Sample 19: [2.88 4.14 3.16] | True: 2.88 | Pred: 0.00\n",
            "Sample 20: [-0.17  7.83 -7.11] | True: -7.11 | Pred: 0.00\n",
            "Sample 21: [ 0.63 -6.83  3.08] | True: -6.83 | Pred: 0.00\n",
            "Sample 22: [-3.44  3.06 -2.08] | True: -3.44 | Pred: 0.00\n",
            "Sample 23: [ 8.29 -5.93 -5.96] | True: -5.96 | Pred: 0.00\n",
            "Sample 24: [-5.96  8.99  3.33] | True: -5.96 | Pred: 0.00\n",
            "Sample 25: [ 9.62 -8.25 -9.92] | True: -9.92 | Pred: 0.00\n",
            "Sample 26: [-7.82 -6.73  4.05] | True: -7.82 | Pred: 0.00\n",
            "Sample 27: [ 3.58  8.31 -5.16] | True: -5.16 | Pred: 0.00\n",
            "Sample 28: [-6.82  5.31 -4.04] | True: -6.82 | Pred: 0.00\n",
            "Sample 29: [ 6.07 -2.37  5.72] | True: -2.37 | Pred: 0.00\n",
            "Sample 30: [-7.77 -5.05  3.05] | True: -7.77 | Pred: 0.00\n",
            "Sample 31: [ 2.11 -2.55  5.96] | True: -2.55 | Pred: 0.00\n",
            "Sample 32: [ 6.8  -7.25 -5.34] | True: -7.25 | Pred: 0.00\n",
            "Sample 33: [ 9.16 -3.37 -3.55] | True: -3.55 | Pred: 0.00\n",
            "Sample 34: [-9.68 -5.73  2.5 ] | True: -9.68 | Pred: 0.00\n",
            "Sample 35: [-1.32 -7.26  0.23] | True: -7.26 | Pred: 0.00\n",
            "Sample 36: [-6.83 -8.48 -5.51] | True: -8.48 | Pred: 0.00\n",
            "Sample 37: [-8.75 -6.37 10.  ] | True: -8.75 | Pred: 0.00\n",
            "Sample 38: [ 1.89  3.08 -9.33] | True: -9.33 | Pred: 0.00\n",
            "Sample 39: [-6.57 -3.33  1.56] | True: -6.57 | Pred: 0.00\n",
            "Sample 40: [-8.8  -4.31 -5.99] | True: -8.80 | Pred: 0.00\n",
            "Sample 41: [ 0.03 -3.72 -0.69] | True: -3.72 | Pred: 0.00\n",
            "Sample 42: [-6.78 -6.86 -5.83] | True: -6.86 | Pred: 0.00\n",
            "Sample 43: [-3.42 -7.89  8.38] | True: -7.89 | Pred: 0.00\n",
            "Sample 44: [-1.98  8.6   3.12] | True: -1.98 | Pred: 0.00\n",
            "Sample 45: [-8.47  6.92 -2.75] | True: -8.47 | Pred: 0.00\n",
            "Sample 46: [-3.83 -8.3  -9.94] | True: -9.94 | Pred: 0.00\n",
            "Sample 47: [ 2.86 -2.18  3.89] | True: -2.18 | Pred: 0.00\n",
            "Sample 48: [-8.21  7.42 -7.34] | True: -8.21 | Pred: 0.00\n",
            "Sample 49: [-1.73  2.09  5.16] | True: -1.73 | Pred: 0.00\n",
            "Sample 50: [ 8.07  9.11 -7.93] | True: -7.93 | Pred: 0.00\n",
            "Sample 51: [ 2.52 -4.3  -1.1 ] | True: -4.30 | Pred: 0.00\n",
            "Sample 52: [-7.48  9.11 -7.34] | True: -7.48 | Pred: 0.00\n",
            "Sample 53: [5.34 3.51 3.25] | True: 3.25 | Pred: 0.00\n",
            "Sample 54: [-5.41  9.09  2.2 ] | True: -5.41 | Pred: 0.00\n",
            "Sample 55: [ 1.29 -8.81  4.2 ] | True: -8.81 | Pred: 0.00\n",
            "Sample 56: [-1.5  -4.58  8.59] | True: -4.58 | Pred: 0.00\n",
            "Sample 57: [ 2.23 -5.53 -5.06] | True: -5.53 | Pred: 0.00\n",
            "Sample 58: [-0.48  5.58 -2.56] | True: -2.56 | Pred: 0.00\n",
            "Sample 59: [-5.71 -3.42 -7.47] | True: -7.47 | Pred: 0.00\n",
            "Sample 60: [ 3.57  7.74 -9.41] | True: -9.41 | Pred: 0.00\n",
            "Sample 61: [2.32 5.17 1.81] | True: 1.81 | Pred: 0.00\n",
            "Sample 62: [-3.56  5.22  5.26] | True: -3.56 | Pred: 0.00\n",
            "Sample 63: [ 3.74 -1.76 -2.65] | True: -2.65 | Pred: 0.00\n",
            "Sample 64: [ 1.07 -1.77 -2.98] | True: -2.98 | Pred: 0.00\n",
            "Sample 65: [ 6.39  8.59 -0.99] | True: -0.99 | Pred: 0.00\n",
            "Sample 66: [-2.24  0.15 -0.6 ] | True: -2.24 | Pred: 0.00\n",
            "Sample 67: [ 2.4   2.8  -9.08] | True: -9.08 | Pred: 0.00\n",
            "Sample 68: [-3.69  8.42  3.9 ] | True: -3.69 | Pred: 0.00\n",
            "Sample 69: [-0.5  -6.03 -6.12] | True: -6.12 | Pred: 0.00\n",
            "Sample 70: [-8.96 -3.26  3.38] | True: -8.96 | Pred: 0.00\n",
            "Sample 71: [ 6.38  4.62 -8.84] | True: -8.84 | Pred: 0.00\n",
            "Sample 72: [-6.01 -1.58  9.67] | True: -6.01 | Pred: 0.00\n",
            "Sample 73: [ 1.45 -2.59  4.14] | True: -2.59 | Pred: 0.00\n",
            "Sample 74: [-3.81 -6.47  7.3 ] | True: -6.47 | Pred: 0.00\n",
            "Sample 75: [-4.55 -2.   -9.95] | True: -9.95 | Pred: 0.00\n",
            "Sample 76: [6.69 7.58 3.64] | True: 3.64 | Pred: 0.00\n",
            "Sample 77: [-6.97 -9.87 -8.12] | True: -9.87 | Pred: 0.00\n",
            "Sample 78: [7.46 4.8  8.42] | True: 4.80 | Pred: 0.00\n",
            "Sample 79: [ 5.24  2.53 -0.1 ] | True: -0.10 | Pred: 0.00\n",
            "Sample 80: [-7.61 -8.57 -9.35] | True: -9.35 | Pred: 0.00\n",
            "Sample 81: [ 4.09 -4.91 -2.01] | True: -4.91 | Pred: 0.00\n",
            "Sample 82: [-5.76 -1.82 -7.04] | True: -7.04 | Pred: 0.00\n",
            "Sample 83: [-6.53  3.32 -2.97] | True: -6.53 | Pred: 0.00\n",
            "Sample 84: [ 6.17 -3.21 -7.34] | True: -7.34 | Pred: 0.00\n",
            "Sample 85: [-1.76 -4.85 -3.06] | True: -4.85 | Pred: 0.00\n",
            "Sample 86: [-9.52  5.59 -6.96] | True: -9.52 | Pred: 0.00\n",
            "Sample 87: [5.03 4.54 7.14] | True: 4.54 | Pred: 0.00\n",
            "Sample 88: [-7.67  7.19 -4.73] | True: -7.67 | Pred: 0.00\n",
            "Sample 89: [ 3.71  9.39 -1.41] | True: -1.41 | Pred: 0.00\n",
            "Sample 90: [-0.08 -2.3  -8.35] | True: -8.35 | Pred: 0.00\n",
            "Sample 91: [ 4.8  -9.93  6.21] | True: -9.93 | Pred: 0.00\n",
            "Sample 92: [ 7.48  9.46 -2.36] | True: -2.36 | Pred: 0.00\n",
            "Sample 93: [-8.22  2.25  5.52] | True: -8.22 | Pred: 0.00\n",
            "Sample 94: [-9.95 -2.27 -5.99] | True: -9.95 | Pred: 0.00\n",
            "Sample 95: [-0.87 -4.92 -4.09] | True: -4.92 | Pred: 0.00\n",
            "Sample 96: [-3.17 -9.5   8.21] | True: -9.50 | Pred: 0.00\n",
            "Sample 97: [ 8.38 -1.57 -1.14] | True: -1.57 | Pred: 0.00\n",
            "Sample 98: [-4.08 -9.03 -9.73] | True: -9.73 | Pred: 0.00\n",
            "Sample 99: [ 3.72 -5.49 -6.43] | True: -6.43 | Pred: 0.00\n",
            "Sample 100: [-0.78 -3.33 -3.24] | True: -3.33 | Pred: 0.00\n",
            "\n",
            "Mean Absolute Error: 5.6067\n"
          ]
        },
        {
          "output_type": "display_data",
          "data": {
            "text/plain": [
              "<Figure size 1000x600 with 1 Axes>"
            ],
            "image/png": "[encoded data removed]"
          },
          "metadata": {}
        }
      ]
    },
    {
      "cell_type": "code",
      "source": [
        "import numpy as np\n",
        "model_params = np.concatenate([\n",
        "    param.data.numpy().flatten()\n",
        "    for param in best_model.parameters()\n",
        "])\n",
        "np.save('training_weights_min.npy', model_params)\n",
        "\n",
        "print(\"Model saved with parameter shape:\", model_params.shape)\n",
        "print(\"parameters:\", model_params)"
      ],
      "metadata": {
        "colab": {
          "base_uri": "https://localhost:8080/"
        },
        "id": "hhNeoVvUkhPS",
        "outputId": "53ddbc5e-f7b4-44e8-df8c-173340f8a2f0"
      },
      "execution_count": 7,
      "outputs": [
        {
          "output_type": "stream",
          "name": "stdout",
          "text": [
            "Model saved with parameter shape: (31,)\n",
            "parameters: [-0.06954986 -0.386351    0.14209041  0.4889831   0.6434892  -0.02920435\n",
            " -0.6284148  -0.34950182 -0.17949994  0.13392788 -0.2254998   0.15582104\n",
            " -0.17159027  0.2729414  -0.23149696  0.34858662  0.31575593 -0.08728634\n",
            "  0.33271343  0.31180817  0.15044512 -0.574547   -0.37125647 -0.15755548\n",
            " -0.35534558 -0.250129   -0.49578843  0.17969719  0.16236512 -0.00893425\n",
            "  0.2021708 ]\n"
          ]
        }
      ]
    }
  ]
}